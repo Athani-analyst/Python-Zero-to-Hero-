{
 "cells": [
  {
   "cell_type": "markdown",
   "id": "6642b5db",
   "metadata": {},
   "source": [
    "Here is a link for more codes: https://github.com/Athani-analyst\n",
    "\n",
    "Happy coding!"
   ]
  },
  {
   "cell_type": "markdown",
   "id": "ab71534f",
   "metadata": {},
   "source": [
    "# Python Sequences"
   ]
  },
  {
   "cell_type": "markdown",
   "id": "587a5d81",
   "metadata": {},
   "source": [
    "A sequence is a collection of items in an order. We have already used strings numerous times in our programs. A string is basically a sequence of characters."
   ]
  },
  {
   "cell_type": "code",
   "execution_count": 4,
   "id": "08f9c31b",
   "metadata": {},
   "outputs": [],
   "source": [
    "#Python sequences\n",
    "text = \"Python\"\n",
    "languages = ['English', 'French', 'German']"
   ]
  },
  {
   "cell_type": "markdown",
   "id": "1a574d0c",
   "metadata": {},
   "source": [
    "The sequence with three items separated by commas and enclosed in square brackets is called a list."
   ]
  },
  {
   "cell_type": "markdown",
   "id": "b5b34ac3",
   "metadata": {},
   "source": [
    "# Python for loop"
   ]
  },
  {
   "cell_type": "markdown",
   "id": "ecf05dfd",
   "metadata": {},
   "source": [
    "The for loop in Python is used to iterate over a sequence, and in each iteration, we can access individual items of that sequence\n",
    "\n",
    "A for loop is used for iterating over a sequence (that is either a list, a tuple, a dictionary, a set, or a string)."
   ]
  },
  {
   "cell_type": "code",
   "execution_count": null,
   "id": "14b730e3",
   "metadata": {},
   "outputs": [],
   "source": [
    "The syntax of the for loop in Python is:\n",
    "    \n",
    "    for item in sequence:\n",
    "           statement(s)"
   ]
  },
  {
   "cell_type": "markdown",
   "id": "57c558fe",
   "metadata": {},
   "source": [
    "Here, the statements inside the for loop are executed for every item in sequence."
   ]
  },
  {
   "cell_type": "code",
   "execution_count": 43,
   "id": "866aaa70",
   "metadata": {},
   "outputs": [
    {
     "name": "stdout",
     "output_type": "stream",
     "text": [
      "p\n",
      "y\n",
      "t\n",
      "h\n",
      "o\n",
      "n\n"
     ]
    }
   ],
   "source": [
    "text=\"python\"\n",
    "for i in text:\n",
    "    print(i)"
   ]
  },
  {
   "cell_type": "markdown",
   "id": "bed65bcf",
   "metadata": {},
   "source": [
    "Here, using a for loop we have accessed individual items of this string one by one.\n",
    "\n",
    "During the first iteration of the loop, the variable character will be the first letter **'P'** and it gets printed to the screen.\n",
    "\n",
    "The loop continues similarly until we reach the last item in the sequence."
   ]
  },
  {
   "cell_type": "markdown",
   "id": "603d28b6",
   "metadata": {},
   "source": [
    "## Looping Through a List"
   ]
  },
  {
   "cell_type": "markdown",
   "id": "8e9637df",
   "metadata": {},
   "source": [
    "We can use the for loop to iterate through each item of this list one by one."
   ]
  },
  {
   "cell_type": "code",
   "execution_count": 44,
   "id": "784deec9",
   "metadata": {},
   "outputs": [
    {
     "name": "stdout",
     "output_type": "stream",
     "text": [
      "English\n",
      "French\n",
      "German\n"
     ]
    }
   ],
   "source": [
    "languages = [\"English\", \"French\", \"German\"]\n",
    "for i in languages:\n",
    "    print(i)"
   ]
  },
  {
   "cell_type": "markdown",
   "id": "ee65a6de",
   "metadata": {},
   "source": [
    "### The break Statement"
   ]
  },
  {
   "cell_type": "code",
   "execution_count": 11,
   "id": "5699ac33",
   "metadata": {},
   "outputs": [
    {
     "name": "stdout",
     "output_type": "stream",
     "text": [
      "English\n",
      "French\n"
     ]
    }
   ],
   "source": [
    "for language in languages:\n",
    "    print(language)\n",
    "    if language==\"French\":\n",
    "        break"
   ]
  },
  {
   "cell_type": "markdown",
   "id": "bc2d312b",
   "metadata": {},
   "source": [
    "## The range() Function"
   ]
  },
  {
   "cell_type": "markdown",
   "id": "3cec784e",
   "metadata": {},
   "source": [
    "In the previous tutorial, we used while loop to repeat a block of code a certain number of times.\n"
   ]
  },
  {
   "cell_type": "code",
   "execution_count": 47,
   "id": "b0445b7e",
   "metadata": {},
   "outputs": [
    {
     "data": {
      "text/plain": [
       "range(2, 4)"
      ]
     },
     "execution_count": 47,
     "metadata": {},
     "output_type": "execute_result"
    }
   ],
   "source": [
    "range(2,4)"
   ]
  },
  {
   "cell_type": "code",
   "execution_count": 17,
   "id": "28a7b54d",
   "metadata": {},
   "outputs": [
    {
     "name": "stdout",
     "output_type": "stream",
     "text": [
      "1\n",
      "2\n",
      "3\n",
      "4\n"
     ]
    }
   ],
   "source": [
    "count = 1\n",
    "\n",
    "while count < 5:\n",
    "    print(count)\n",
    "    count = count + 1"
   ]
  },
  {
   "cell_type": "markdown",
   "id": "3a452d43",
   "metadata": {},
   "source": [
    "We can use range() with a for loop to write this program in a much simpler way."
   ]
  },
  {
   "cell_type": "markdown",
   "id": "73fda211",
   "metadata": {},
   "source": [
    "The range() function returns a sequence of numbers, starting from 0 by default, and increments by 1 (by default), and ends at a specified number."
   ]
  },
  {
   "cell_type": "code",
   "execution_count": 51,
   "id": "d5c23df2",
   "metadata": {},
   "outputs": [
    {
     "name": "stdout",
     "output_type": "stream",
     "text": [
      "0\n",
      "1\n",
      "2\n",
      "3\n",
      "4\n"
     ]
    }
   ],
   "source": [
    "for i in range(0,5):\n",
    "    print(i)"
   ]
  },
  {
   "cell_type": "code",
   "execution_count": 50,
   "id": "ea065c77",
   "metadata": {},
   "outputs": [
    {
     "name": "stdout",
     "output_type": "stream",
     "text": [
      "0\n",
      "1\n",
      "2\n",
      "3\n",
      "4\n"
     ]
    }
   ],
   "source": [
    "i=0\n",
    "while i<5:\n",
    "    print(i)\n",
    "    i+=1"
   ]
  },
  {
   "cell_type": "markdown",
   "id": "059db6f1",
   "metadata": {},
   "source": [
    "The range() function creates a sequence of numbers from 1 to 5. The last value passed (6 in this case) is exclusive.\n",
    "\n"
   ]
  },
  {
   "cell_type": "markdown",
   "id": "e04c2512",
   "metadata": {},
   "source": [
    "## Nested Loops"
   ]
  },
  {
   "cell_type": "markdown",
   "id": "65573d5d",
   "metadata": {},
   "source": [
    "A nested loop is a loop inside a loop.\n",
    "\n",
    "The \"inner loop\" will be executed one time for each iteration of the \"outer loop\":"
   ]
  },
  {
   "cell_type": "code",
   "execution_count": 21,
   "id": "67b57df4",
   "metadata": {},
   "outputs": [
    {
     "name": "stdout",
     "output_type": "stream",
     "text": [
      "red apple\n",
      "red banana\n",
      "red cherry\n",
      "big apple\n",
      "big banana\n",
      "big cherry\n",
      "tasty apple\n",
      "tasty banana\n",
      "tasty cherry\n"
     ]
    }
   ],
   "source": [
    "adj = [\"red\", \"big\", \"tasty\"]\n",
    "fruits = [\"apple\", \"banana\", \"cherry\"]\n",
    "\n",
    "for x in adj:\n",
    "    for y in fruits:\n",
    "        print(x, y)"
   ]
  },
  {
   "cell_type": "markdown",
   "id": "f66a6209",
   "metadata": {},
   "source": [
    "# Multiplication Table"
   ]
  },
  {
   "cell_type": "code",
   "execution_count": 25,
   "id": "e5615e3c",
   "metadata": {},
   "outputs": [
    {
     "name": "stdout",
     "output_type": "stream",
     "text": [
      "enter the number:2\n",
      "2\n",
      "4\n",
      "6\n",
      "8\n",
      "10\n",
      "12\n",
      "14\n",
      "16\n",
      "18\n",
      "20\n"
     ]
    }
   ],
   "source": [
    "num=int(input('enter the number:'))\n",
    "for i in range(1,11):\n",
    "    print(i*num)"
   ]
  },
  {
   "cell_type": "code",
   "execution_count": 27,
   "id": "f976c6bb",
   "metadata": {},
   "outputs": [
    {
     "name": "stdout",
     "output_type": "stream",
     "text": [
      "enter the number:8\n",
      "8 * 1 = 8\n",
      "8 * 2 = 16\n",
      "8 * 3 = 24\n",
      "8 * 4 = 32\n",
      "8 * 5 = 40\n",
      "8 * 6 = 48\n",
      "8 * 7 = 56\n",
      "8 * 8 = 64\n",
      "8 * 9 = 72\n",
      "8 * 10 = 80\n"
     ]
    }
   ],
   "source": [
    "num=int(input('enter the number:'))\n",
    "for i in range(1,11):\n",
    "    print(num,\"*\",i,\"=\",i*num)"
   ]
  },
  {
   "cell_type": "markdown",
   "id": "7ff4c45f",
   "metadata": {},
   "source": [
    "# Programming Task\n",
    "Can you create a program to find the sum of numbers from 1 to 100.\n",
    "\n",
    "The result should be equal to 1 + 2 + 3 + ... + 100."
   ]
  },
  {
   "cell_type": "code",
   "execution_count": null,
   "id": "10755b85",
   "metadata": {},
   "outputs": [],
   "source": []
  }
 ],
 "metadata": {
  "kernelspec": {
   "display_name": "Python 3 (ipykernel)",
   "language": "python",
   "name": "python3"
  },
  "language_info": {
   "codemirror_mode": {
    "name": "ipython",
    "version": 3
   },
   "file_extension": ".py",
   "mimetype": "text/x-python",
   "name": "python",
   "nbconvert_exporter": "python",
   "pygments_lexer": "ipython3",
   "version": "3.9.13"
  }
 },
 "nbformat": 4,
 "nbformat_minor": 5
}
