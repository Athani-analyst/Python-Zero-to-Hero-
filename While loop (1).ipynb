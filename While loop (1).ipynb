{
 "cells": [
  {
   "cell_type": "markdown",
   "id": "bd9c0e62",
   "metadata": {},
   "source": [
    "Here is a link for more codes: https://github.com/Athani-analyst\n",
    "\n",
    "Happy coding!"
   ]
  },
  {
   "cell_type": "markdown",
   "id": "0bf9cdf1",
   "metadata": {},
   "source": [
    "# Python Loops"
   ]
  },
  {
   "cell_type": "markdown",
   "id": "b43bf82f",
   "metadata": {},
   "source": [
    "ython has two primitive loop commands:\n",
    "\n",
    "- while loops\n",
    "- for loops"
   ]
  },
  {
   "cell_type": "markdown",
   "id": "14708431",
   "metadata": {},
   "source": [
    "# The while Loop"
   ]
  },
  {
   "cell_type": "markdown",
   "id": "3287c93c",
   "metadata": {},
   "source": [
    "Looping is a fundamental concept in all programming languages, not just Python.\n",
    "\n",
    "They are used to repeat a block of code multiple times as per our requirement. One such type of loop is the while loop.\n",
    "\n",
    "With the while loop we can execute a set of statements as long as a condition is true."
   ]
  },
  {
   "cell_type": "code",
   "execution_count": null,
   "id": "ab46dfef",
   "metadata": {},
   "outputs": [],
   "source": [
    "The syntax of the while loop in Python is:\n",
    "    \n",
    "while test_condition:\n",
    "    statement(s)\n",
    "    \n",
    "Here, the statements inside the while loop are executed for as long as test_condition evaluates to True."
   ]
  },
  {
   "cell_type": "code",
   "execution_count": 36,
   "id": "156a7b33",
   "metadata": {},
   "outputs": [
    {
     "name": "stdout",
     "output_type": "stream",
     "text": [
      "1\n",
      "2\n",
      "3\n",
      "4\n",
      "5\n"
     ]
    }
   ],
   "source": [
    "i=1\n",
    "while i<6:\n",
    "    print(i)\n",
    "    i+=1"
   ]
  },
  {
   "cell_type": "markdown",
   "id": "4898bd3d",
   "metadata": {},
   "source": [
    "## The break Statement"
   ]
  },
  {
   "cell_type": "markdown",
   "id": "a2ef4cf4",
   "metadata": {},
   "source": [
    "With the break statement we can stop the loop even if the while condition is true:"
   ]
  },
  {
   "cell_type": "code",
   "execution_count": 39,
   "id": "308d9ed1",
   "metadata": {},
   "outputs": [
    {
     "name": "stdout",
     "output_type": "stream",
     "text": [
      "1\n",
      "2\n",
      "3\n"
     ]
    }
   ],
   "source": [
    "i=1\n",
    "while i<6:\n",
    "    print(i)\n",
    "    if i==3:\n",
    "        break\n",
    "    i+=1"
   ]
  },
  {
   "cell_type": "markdown",
   "id": "8583fc52",
   "metadata": {},
   "source": [
    "## The continue Statement"
   ]
  },
  {
   "cell_type": "code",
   "execution_count": 12,
   "id": "8c114938",
   "metadata": {},
   "outputs": [
    {
     "name": "stdout",
     "output_type": "stream",
     "text": [
      "1\n",
      "2\n",
      "3\n",
      "4\n",
      "5\n"
     ]
    }
   ],
   "source": [
    "i=1\n",
    "while i<6:\n",
    "    print(i)\n",
    "    i+=1"
   ]
  },
  {
   "cell_type": "code",
   "execution_count": 14,
   "id": "9eac3dc6",
   "metadata": {},
   "outputs": [
    {
     "name": "stdout",
     "output_type": "stream",
     "text": [
      "2\n",
      "4\n",
      "5\n",
      "6\n"
     ]
    }
   ],
   "source": [
    "i=1\n",
    "while i<6:\n",
    "    i+=1\n",
    "    if i==3:\n",
    "        continue\n",
    "    print(i)\n",
    "    "
   ]
  },
  {
   "cell_type": "markdown",
   "id": "1ccf1efc",
   "metadata": {},
   "source": [
    "## The else Statement"
   ]
  },
  {
   "cell_type": "markdown",
   "id": "fba4a93c",
   "metadata": {},
   "source": [
    "With the else statement we can run a block of code once when the condition no longer is true:"
   ]
  },
  {
   "cell_type": "code",
   "execution_count": 16,
   "id": "2e14cbe4",
   "metadata": {},
   "outputs": [
    {
     "name": "stdout",
     "output_type": "stream",
     "text": [
      "1\n",
      "2\n",
      "3\n",
      "4\n",
      "5\n",
      "i is no longer less than 6\n"
     ]
    }
   ],
   "source": [
    "i=1\n",
    "while i<6:\n",
    "    print(i)\n",
    "    i+=1\n",
    "else:\n",
    "    print('i is no longer less than 6')"
   ]
  },
  {
   "cell_type": "markdown",
   "id": "6abd51eb",
   "metadata": {},
   "source": [
    "## Programming Task 1\n"
   ]
  },
  {
   "cell_type": "markdown",
   "id": "ce584c15",
   "metadata": {},
   "source": [
    "## Can you guess the output of this program?"
   ]
  },
  {
   "cell_type": "code",
   "execution_count": 49,
   "id": "e41fcdfe",
   "metadata": {},
   "outputs": [
    {
     "name": "stdout",
     "output_type": "stream",
     "text": [
      "4\n",
      "8\n",
      "12\n",
      "16\n",
      "20\n",
      "24\n",
      "28\n",
      "32\n",
      "36\n",
      "40\n"
     ]
    }
   ],
   "source": [
    "i = 1\n",
    "num=4\n",
    "while i <= 10:\n",
    "    print(i*num)\n",
    "    i = i + 1"
   ]
  },
  {
   "cell_type": "markdown",
   "id": "8d999a9d",
   "metadata": {},
   "source": [
    "## Multiplication Table"
   ]
  },
  {
   "cell_type": "code",
   "execution_count": 60,
   "id": "65e4fce9",
   "metadata": {},
   "outputs": [
    {
     "name": "stdout",
     "output_type": "stream",
     "text": [
      "Enter the number2\n",
      "2 * 1 = 2\n",
      "2 * 2 = 4\n",
      "2 * 3 = 6\n",
      "2 * 4 = 8\n",
      "2 * 5 = 10\n",
      "2 * 6 = 12\n",
      "2 * 7 = 14\n",
      "2 * 8 = 16\n",
      "2 * 9 = 18\n",
      "2 * 10 = 20\n"
     ]
    }
   ],
   "source": [
    "num=int(input(\"Enter the number\"))\n",
    "i=1\n",
    "while i<=10:\n",
    "    print(num,\"*\",i,\"=\",i*num)\n",
    "    i+=1"
   ]
  },
  {
   "cell_type": "code",
   "execution_count": 28,
   "id": "fdd4ccc4",
   "metadata": {
    "scrolled": false
   },
   "outputs": [
    {
     "name": "stdout",
     "output_type": "stream",
     "text": [
      "Enter the number5\n",
      "5 * 1 = 5\n",
      "5 * 2 = 10\n",
      "5 * 3 = 15\n",
      "5 * 4 = 20\n",
      "5 * 5 = 25\n",
      "5 * 6 = 30\n",
      "5 * 7 = 35\n",
      "5 * 8 = 40\n",
      "5 * 9 = 45\n",
      "5 * 10 = 50\n"
     ]
    }
   ],
   "source": [
    "num=int(input(\"Enter the number\"))\n",
    "i=1\n",
    "while i<=10:\n",
    "    print(num,'*',i,\"=\",i*num)\n",
    "    i+=1"
   ]
  },
  {
   "cell_type": "markdown",
   "id": "c976978a",
   "metadata": {},
   "source": [
    "## Programming Task 2"
   ]
  },
  {
   "cell_type": "markdown",
   "id": "9b149b6b",
   "metadata": {},
   "source": [
    "Can you modify our multiplication table program so that we get a multiplication table from 10 to 1 instead of 1 to 10."
   ]
  },
  {
   "cell_type": "code",
   "execution_count": null,
   "id": "a4b8a85d",
   "metadata": {},
   "outputs": [],
   "source": [
    "i=1\n",
    "while i<=10:\n",
    "    print(i)\n",
    "    i+=1"
   ]
  }
 ],
 "metadata": {
  "kernelspec": {
   "display_name": "Python 3 (ipykernel)",
   "language": "python",
   "name": "python3"
  },
  "language_info": {
   "codemirror_mode": {
    "name": "ipython",
    "version": 3
   },
   "file_extension": ".py",
   "mimetype": "text/x-python",
   "name": "python",
   "nbconvert_exporter": "python",
   "pygments_lexer": "ipython3",
   "version": "3.9.13"
  }
 },
 "nbformat": 4,
 "nbformat_minor": 5
}
