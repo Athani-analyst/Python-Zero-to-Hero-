{
 "cells": [
  {
   "cell_type": "markdown",
   "id": "99f06e36",
   "metadata": {},
   "source": [
    "# List Comprehension"
   ]
  },
  {
   "cell_type": "markdown",
   "id": "b4cd2ceb",
   "metadata": {},
   "source": [
    "List comprehension offers a shorter syntax when you want to create a new list based on the values of an existing list."
   ]
  },
  {
   "cell_type": "markdown",
   "id": "3d386c64",
   "metadata": {},
   "source": [
    "Based on a list of Cities, you want a new list, containing only the cities  with the letter \"a\" in the name.\n",
    "\n",
    "Without list comprehension you will have to write a for statement with a conditional test inside:"
   ]
  },
  {
   "cell_type": "code",
   "execution_count": 78,
   "id": "0e22c548",
   "metadata": {},
   "outputs": [
    {
     "name": "stdout",
     "output_type": "stream",
     "text": [
      "['bangalore', 'mumbai', 'hyderbad']\n"
     ]
    }
   ],
   "source": [
    "cities=['bangalore','mumbai','Mysore','hyderbad']\n",
    "newlist=[]\n",
    "for i in cities:\n",
    "     if 'a' in i:\n",
    "        newlist.append(i)\n",
    "print(newlist)"
   ]
  },
  {
   "cell_type": "code",
   "execution_count": 81,
   "id": "cda7d888",
   "metadata": {},
   "outputs": [
    {
     "data": {
      "text/plain": [
       "['bangalore', 'mumbai', 'hyderbad']"
      ]
     },
     "execution_count": 81,
     "metadata": {},
     "output_type": "execute_result"
    }
   ],
   "source": [
    "new_list=[i for i in cities if 'a' in i]\n",
    "new_list"
   ]
  },
  {
   "cell_type": "markdown",
   "id": "3160cd51",
   "metadata": {},
   "source": [
    "newlist = [expression for item in iterable if condition == True]\n"
   ]
  },
  {
   "cell_type": "code",
   "execution_count": 82,
   "id": "01dfefb4",
   "metadata": {},
   "outputs": [
    {
     "data": {
      "text/plain": [
       "['bangalore', 'mumbai', 'Mysore', 'hyderbad']"
      ]
     },
     "execution_count": 82,
     "metadata": {},
     "output_type": "execute_result"
    }
   ],
   "source": [
    "[x for x in cities]"
   ]
  },
  {
   "cell_type": "markdown",
   "id": "38db3d00",
   "metadata": {},
   "source": [
    "Iterable\n",
    "\n",
    "The iterable can be any iterable object, like a list, tuple, set etc."
   ]
  },
  {
   "cell_type": "code",
   "execution_count": 83,
   "id": "c0bc3061",
   "metadata": {},
   "outputs": [
    {
     "name": "stdout",
     "output_type": "stream",
     "text": [
      "1\n",
      "2\n",
      "3\n",
      "4\n",
      "5\n",
      "6\n",
      "7\n",
      "8\n",
      "9\n",
      "10\n"
     ]
    }
   ],
   "source": [
    "for x in range(1,11):\n",
    "    print(x)"
   ]
  },
  {
   "cell_type": "code",
   "execution_count": 95,
   "id": "7a076e27",
   "metadata": {},
   "outputs": [
    {
     "data": {
      "text/plain": [
       "[1, 2, 3, 4, 5, 6, 7, 8, 9, 10]"
      ]
     },
     "execution_count": 95,
     "metadata": {},
     "output_type": "execute_result"
    }
   ],
   "source": [
    "num=[x for x in range(1,11,1)]\n",
    "num"
   ]
  },
  {
   "cell_type": "code",
   "execution_count": 98,
   "id": "e5439992",
   "metadata": {},
   "outputs": [
    {
     "data": {
      "text/plain": [
       "[4, 10, 16, 22, 28, 34, 40, 46, 52, 58, 64, 70, 76, 82, 88, 94]"
      ]
     },
     "execution_count": 98,
     "metadata": {},
     "output_type": "execute_result"
    }
   ],
   "source": [
    "[x for x in range(1,100,3) if x%2==0]"
   ]
  },
  {
   "cell_type": "code",
   "execution_count": 102,
   "id": "fc71daed",
   "metadata": {},
   "outputs": [
    {
     "data": {
      "text/plain": [
       "[0, 1, 2, 3, 4]"
      ]
     },
     "execution_count": 102,
     "metadata": {},
     "output_type": "execute_result"
    }
   ],
   "source": [
    "new_list=[x for x in range(10) if x<5]\n",
    "new_list"
   ]
  },
  {
   "cell_type": "code",
   "execution_count": 104,
   "id": "c79e7c70",
   "metadata": {},
   "outputs": [
    {
     "data": {
      "text/plain": [
       "['BANGALORE', 'MUMBAI', 'MYSORE', 'HYDERBAD']"
      ]
     },
     "execution_count": 104,
     "metadata": {},
     "output_type": "execute_result"
    }
   ],
   "source": [
    "newlist = [x.upper() for x in cities]\n",
    "newlist"
   ]
  },
  {
   "cell_type": "code",
   "execution_count": 107,
   "id": "52b45b2d",
   "metadata": {},
   "outputs": [
    {
     "data": {
      "text/plain": [
       "['bangalore', 'mumbai', 'Mysore', 'hyderbad']"
      ]
     },
     "execution_count": 107,
     "metadata": {},
     "output_type": "execute_result"
    }
   ],
   "source": [
    "[x if x!= 'chenai' else 'kodagu' for x in cities]"
   ]
  },
  {
   "cell_type": "markdown",
   "id": "7450254b",
   "metadata": {},
   "source": [
    "# Sort Lists"
   ]
  },
  {
   "cell_type": "markdown",
   "id": "94501bdf",
   "metadata": {},
   "source": [
    "Sort List Alphanumerically\n",
    "\n",
    "List objects have a sort() method that will sort the list alphanumerically, ascending, by default:\n"
   ]
  },
  {
   "cell_type": "code",
   "execution_count": 119,
   "id": "ff8f4304",
   "metadata": {},
   "outputs": [
    {
     "name": "stdout",
     "output_type": "stream",
     "text": [
      "['athani', 'kiran', 'manju', 'ravi', 'silver']\n"
     ]
    }
   ],
   "source": [
    "names=['manju','athani','ravi','kiran','silver']\n",
    "names.sort()\n",
    "print(names)"
   ]
  },
  {
   "cell_type": "code",
   "execution_count": 121,
   "id": "0ebfd04d",
   "metadata": {},
   "outputs": [
    {
     "name": "stdout",
     "output_type": "stream",
     "text": [
      "[9, 23, 25, 45, 45, 65, 67]\n"
     ]
    }
   ],
   "source": [
    "list=[45,67,45,25,9,23,65]\n",
    "list.sort()\n",
    "print(list)"
   ]
  },
  {
   "cell_type": "code",
   "execution_count": 123,
   "id": "aca6862b",
   "metadata": {},
   "outputs": [
    {
     "name": "stdout",
     "output_type": "stream",
     "text": [
      "[67, 65, 45, 45, 25, 23, 9]\n"
     ]
    }
   ],
   "source": [
    "list.sort(reverse=True)\n",
    "print(list)"
   ]
  },
  {
   "cell_type": "markdown",
   "id": "e018010b",
   "metadata": {},
   "source": [
    "# Copy a List"
   ]
  },
  {
   "cell_type": "markdown",
   "id": "a22bcdd7",
   "metadata": {},
   "source": [
    "You cannot copy a list simply by typing list2 = list1, because: list2 will only be a reference to list1, and changes made in list1 will automatically also be made in list2.\n",
    "\n",
    "    \n",
    "There are ways to make a copy, one way is to use the built-in List method copy()."
   ]
  },
  {
   "cell_type": "code",
   "execution_count": 128,
   "id": "167c65b2",
   "metadata": {},
   "outputs": [
    {
     "data": {
      "text/plain": [
       "[12, 34, 33, 45, 76]"
      ]
     },
     "execution_count": 128,
     "metadata": {},
     "output_type": "execute_result"
    }
   ],
   "source": [
    "list=[12,34,33,45,76]\n",
    "list2=list.copy()\n",
    "list2"
   ]
  },
  {
   "cell_type": "markdown",
   "id": "b939a63e",
   "metadata": {},
   "source": [
    "Join Two Lists\n",
    "\n",
    "There are several ways to join, or concatenate, two or more lists in Python.\n",
    "\n",
    "One of the easiest ways are by using the + operator."
   ]
  },
  {
   "cell_type": "code",
   "execution_count": 130,
   "id": "31d9bc3f",
   "metadata": {},
   "outputs": [],
   "source": [
    "list1 = [\"a\", \"b\" , \"c\"]\n",
    "list2 = [1, 2, 3]\n",
    " "
   ]
  },
  {
   "cell_type": "code",
   "execution_count": 131,
   "id": "e613e6b9",
   "metadata": {},
   "outputs": [
    {
     "data": {
      "text/plain": [
       "['a', 'b', 'c', 1, 2, 3]"
      ]
     },
     "execution_count": 131,
     "metadata": {},
     "output_type": "execute_result"
    }
   ],
   "source": [
    "list1+list2"
   ]
  },
  {
   "cell_type": "code",
   "execution_count": 133,
   "id": "23b8e3c5",
   "metadata": {},
   "outputs": [
    {
     "name": "stdout",
     "output_type": "stream",
     "text": [
      "['a', 'b', 'c', 1, 2, 3]\n"
     ]
    }
   ],
   "source": [
    "for i in list2:\n",
    "    list1.append(i)\n",
    "print(list1)"
   ]
  },
  {
   "cell_type": "code",
   "execution_count": null,
   "id": "d8b572ff",
   "metadata": {},
   "outputs": [],
   "source": []
  }
 ],
 "metadata": {
  "kernelspec": {
   "display_name": "Python 3 (ipykernel)",
   "language": "python",
   "name": "python3"
  },
  "language_info": {
   "codemirror_mode": {
    "name": "ipython",
    "version": 3
   },
   "file_extension": ".py",
   "mimetype": "text/x-python",
   "name": "python",
   "nbconvert_exporter": "python",
   "pygments_lexer": "ipython3",
   "version": "3.9.7"
  }
 },
 "nbformat": 4,
 "nbformat_minor": 5
}
