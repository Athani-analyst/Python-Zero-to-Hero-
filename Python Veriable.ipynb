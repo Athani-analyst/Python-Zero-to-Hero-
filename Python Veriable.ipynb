{
 "cells": [
  {
   "cell_type": "markdown",
   "id": "87570036",
   "metadata": {},
   "source": [
    "# Python Veriable"
   ]
  },
  {
   "cell_type": "markdown",
   "id": "eb701b8b",
   "metadata": {},
   "source": [
    "Variables are containers for storing data values."
   ]
  },
  {
   "cell_type": "markdown",
   "id": "a27f146b",
   "metadata": {},
   "source": [
    "Python has no command for declaring a variable.\n",
    "\n",
    "A variable is created the moment you first assign a value to it."
   ]
  },
  {
   "cell_type": "markdown",
   "id": "4c4ca157",
   "metadata": {},
   "source": [
    "Variables do not need to be declared with any particular type, and can even change type after they have been set."
   ]
  },
  {
   "cell_type": "markdown",
   "id": "b4316345",
   "metadata": {},
   "source": [
    "Variable Names\n",
    "\n",
    "A variable can have a short name (like x and y) or a more descriptive name (age, carname, total_volume). \n",
    "\n"
   ]
  },
  {
   "cell_type": "markdown",
   "id": "90afcf07",
   "metadata": {},
   "source": [
    "### Rules for Python variables:\n",
    "\n"
   ]
  },
  {
   "cell_type": "markdown",
   "id": "deb75cfd",
   "metadata": {},
   "source": [
    "A variable name must start with a letter or the underscore character\n",
    "\n",
    "A variable name cannot start with a number\n",
    "\n",
    "A variable name can only contain alpha-numeric characters and underscores (A-z, 0-9, and _ )\n",
    "\n",
    "Variable names are case-sensitive (age, Age and AGE are three different variables)"
   ]
  },
  {
   "cell_type": "code",
   "execution_count": 1,
   "id": "40fd233b",
   "metadata": {},
   "outputs": [],
   "source": [
    "x=123"
   ]
  },
  {
   "cell_type": "code",
   "execution_count": 2,
   "id": "c5b8eade",
   "metadata": {},
   "outputs": [],
   "source": [
    "age=25"
   ]
  },
  {
   "cell_type": "code",
   "execution_count": 4,
   "id": "e70e02d2",
   "metadata": {},
   "outputs": [
    {
     "ename": "SyntaxError",
     "evalue": "invalid syntax (Temp/ipykernel_12036/193084800.py, line 1)",
     "output_type": "error",
     "traceback": [
      "\u001b[1;36m  File \u001b[1;32m\"C:\\Users\\itsmj\\AppData\\Local\\Temp/ipykernel_12036/193084800.py\"\u001b[1;36m, line \u001b[1;32m1\u001b[0m\n\u001b[1;33m    3GKVk=4\u001b[0m\n\u001b[1;37m     ^\u001b[0m\n\u001b[1;31mSyntaxError\u001b[0m\u001b[1;31m:\u001b[0m invalid syntax\n"
     ]
    }
   ],
   "source": [
    "3GKVk=4"
   ]
  },
  {
   "cell_type": "code",
   "execution_count": 8,
   "id": "c162c96d",
   "metadata": {},
   "outputs": [
    {
     "ename": "TypeError",
     "evalue": "unsupported operand type(s) for -: 'str' and 'str'",
     "output_type": "error",
     "traceback": [
      "\u001b[1;31m---------------------------------------------------------------------------\u001b[0m",
      "\u001b[1;31mTypeError\u001b[0m                                 Traceback (most recent call last)",
      "\u001b[1;32m~\\AppData\\Local\\Temp/ipykernel_12036/1868877164.py\u001b[0m in \u001b[0;36m<module>\u001b[1;34m\u001b[0m\n\u001b[1;32m----> 1\u001b[1;33m \u001b[1;34m'name'\u001b[0m\u001b[1;33m-\u001b[0m\u001b[1;34m'GKVK'\u001b[0m\u001b[1;33m\u001b[0m\u001b[1;33m\u001b[0m\u001b[0m\n\u001b[0m",
      "\u001b[1;31mTypeError\u001b[0m: unsupported operand type(s) for -: 'str' and 'str'"
     ]
    }
   ],
   "source": [
    "'name'-'GKVK'"
   ]
  },
  {
   "cell_type": "code",
   "execution_count": 10,
   "id": "990ddd18",
   "metadata": {},
   "outputs": [],
   "source": [
    "name2='GKvk'"
   ]
  },
  {
   "cell_type": "code",
   "execution_count": 11,
   "id": "46a6a19a",
   "metadata": {},
   "outputs": [],
   "source": [
    "age=25"
   ]
  },
  {
   "cell_type": "code",
   "execution_count": 12,
   "id": "488dae45",
   "metadata": {},
   "outputs": [],
   "source": [
    "Age=26"
   ]
  },
  {
   "cell_type": "code",
   "execution_count": 13,
   "id": "187e7ced",
   "metadata": {},
   "outputs": [],
   "source": [
    "AGE=27"
   ]
  },
  {
   "cell_type": "code",
   "execution_count": 14,
   "id": "e8e3bcb0",
   "metadata": {},
   "outputs": [
    {
     "data": {
      "text/plain": [
       "25"
      ]
     },
     "execution_count": 14,
     "metadata": {},
     "output_type": "execute_result"
    }
   ],
   "source": [
    "age"
   ]
  },
  {
   "cell_type": "code",
   "execution_count": 15,
   "id": "da4a1437",
   "metadata": {},
   "outputs": [
    {
     "data": {
      "text/plain": [
       "26"
      ]
     },
     "execution_count": 15,
     "metadata": {},
     "output_type": "execute_result"
    }
   ],
   "source": [
    "Age"
   ]
  },
  {
   "cell_type": "code",
   "execution_count": 16,
   "id": "c5aa4d10",
   "metadata": {},
   "outputs": [
    {
     "data": {
      "text/plain": [
       "27"
      ]
     },
     "execution_count": 16,
     "metadata": {},
     "output_type": "execute_result"
    }
   ],
   "source": [
    "AGE"
   ]
  },
  {
   "cell_type": "code",
   "execution_count": 17,
   "id": "c7ec1199",
   "metadata": {},
   "outputs": [],
   "source": [
    "My_name='Athani'"
   ]
  },
  {
   "cell_type": "code",
   "execution_count": 18,
   "id": "c5f2925c",
   "metadata": {},
   "outputs": [],
   "source": [
    "_MYname='Athani'"
   ]
  },
  {
   "cell_type": "code",
   "execution_count": 19,
   "id": "bf9455d3",
   "metadata": {},
   "outputs": [
    {
     "ename": "SyntaxError",
     "evalue": "invalid syntax (Temp/ipykernel_12036/1900238113.py, line 1)",
     "output_type": "error",
     "traceback": [
      "\u001b[1;36m  File \u001b[1;32m\"C:\\Users\\itsmj\\AppData\\Local\\Temp/ipykernel_12036/1900238113.py\"\u001b[1;36m, line \u001b[1;32m1\u001b[0m\n\u001b[1;33m    My name='Athani'\u001b[0m\n\u001b[1;37m       ^\u001b[0m\n\u001b[1;31mSyntaxError\u001b[0m\u001b[1;31m:\u001b[0m invalid syntax\n"
     ]
    }
   ],
   "source": [
    "My name='Athani'"
   ]
  },
  {
   "cell_type": "code",
   "execution_count": 20,
   "id": "bc8afbeb",
   "metadata": {},
   "outputs": [
    {
     "ename": "SyntaxError",
     "evalue": "cannot assign to operator (Temp/ipykernel_12036/1185211685.py, line 1)",
     "output_type": "error",
     "traceback": [
      "\u001b[1;36m  File \u001b[1;32m\"C:\\Users\\itsmj\\AppData\\Local\\Temp/ipykernel_12036/1185211685.py\"\u001b[1;36m, line \u001b[1;32m1\u001b[0m\n\u001b[1;33m    my-name='Athani'\u001b[0m\n\u001b[1;37m    ^\u001b[0m\n\u001b[1;31mSyntaxError\u001b[0m\u001b[1;31m:\u001b[0m cannot assign to operator\n"
     ]
    }
   ],
   "source": [
    "my-name='Athani'"
   ]
  },
  {
   "cell_type": "markdown",
   "id": "f12df17e",
   "metadata": {},
   "source": [
    "\"Remember that variable names are case-sensitive\""
   ]
  },
  {
   "cell_type": "markdown",
   "id": "cc27ab1b",
   "metadata": {},
   "source": [
    "Multi Words Variable Names\n",
    "\n",
    "Variable names with more than one word can be difficult to read.\n",
    "\n",
    "There are several techniques you can use to make them more readable:"
   ]
  },
  {
   "cell_type": "markdown",
   "id": "16172502",
   "metadata": {},
   "source": [
    "#### Camel Case"
   ]
  },
  {
   "cell_type": "markdown",
   "id": "9c8f53e4",
   "metadata": {},
   "source": [
    "Each word, except the first, starts with a capital letter:"
   ]
  },
  {
   "cell_type": "code",
   "execution_count": 21,
   "id": "f6a20835",
   "metadata": {},
   "outputs": [],
   "source": [
    "myNameIs=\"YASH\""
   ]
  },
  {
   "cell_type": "markdown",
   "id": "119c4440",
   "metadata": {},
   "source": [
    "#### Pascal Case"
   ]
  },
  {
   "cell_type": "code",
   "execution_count": 22,
   "id": "f94d38ef",
   "metadata": {},
   "outputs": [],
   "source": [
    "MyNameIs='yash'"
   ]
  },
  {
   "cell_type": "markdown",
   "id": "4ab551c7",
   "metadata": {},
   "source": [
    "#### Snake case"
   ]
  },
  {
   "cell_type": "code",
   "execution_count": 23,
   "id": "d20d9c15",
   "metadata": {},
   "outputs": [],
   "source": [
    "my_name_is='yash'"
   ]
  },
  {
   "cell_type": "markdown",
   "id": "05b54b28",
   "metadata": {},
   "source": [
    "### Many Values to Multiple Variables"
   ]
  },
  {
   "cell_type": "code",
   "execution_count": 24,
   "id": "fd32a467",
   "metadata": {},
   "outputs": [],
   "source": [
    "x,y,z='GKVK','was','heavn'"
   ]
  },
  {
   "cell_type": "code",
   "execution_count": 25,
   "id": "8f9dff8e",
   "metadata": {},
   "outputs": [
    {
     "data": {
      "text/plain": [
       "'GKVK'"
      ]
     },
     "execution_count": 25,
     "metadata": {},
     "output_type": "execute_result"
    }
   ],
   "source": [
    "x"
   ]
  },
  {
   "cell_type": "code",
   "execution_count": 26,
   "id": "91119d4c",
   "metadata": {},
   "outputs": [
    {
     "data": {
      "text/plain": [
       "'was'"
      ]
     },
     "execution_count": 26,
     "metadata": {},
     "output_type": "execute_result"
    }
   ],
   "source": [
    "y"
   ]
  },
  {
   "cell_type": "code",
   "execution_count": 27,
   "id": "c18200ec",
   "metadata": {},
   "outputs": [
    {
     "data": {
      "text/plain": [
       "'heavn'"
      ]
     },
     "execution_count": 27,
     "metadata": {},
     "output_type": "execute_result"
    }
   ],
   "source": [
    "z"
   ]
  },
  {
   "cell_type": "code",
   "execution_count": 32,
   "id": "37f874a9",
   "metadata": {},
   "outputs": [],
   "source": [
    "#One Value to Multiple Variables\n",
    "x=y=z='Mango'"
   ]
  },
  {
   "cell_type": "code",
   "execution_count": 29,
   "id": "14157439",
   "metadata": {},
   "outputs": [
    {
     "data": {
      "text/plain": [
       "'Mango'"
      ]
     },
     "execution_count": 29,
     "metadata": {},
     "output_type": "execute_result"
    }
   ],
   "source": [
    "x"
   ]
  },
  {
   "cell_type": "code",
   "execution_count": 30,
   "id": "0f769f29",
   "metadata": {},
   "outputs": [
    {
     "data": {
      "text/plain": [
       "'Mango'"
      ]
     },
     "execution_count": 30,
     "metadata": {},
     "output_type": "execute_result"
    }
   ],
   "source": [
    "y"
   ]
  },
  {
   "cell_type": "code",
   "execution_count": 31,
   "id": "12696d8c",
   "metadata": {},
   "outputs": [
    {
     "data": {
      "text/plain": [
       "'Mango'"
      ]
     },
     "execution_count": 31,
     "metadata": {},
     "output_type": "execute_result"
    }
   ],
   "source": [
    "z"
   ]
  },
  {
   "cell_type": "code",
   "execution_count": 33,
   "id": "267d9e5b",
   "metadata": {},
   "outputs": [],
   "source": [
    "# Unpack a Collection"
   ]
  },
  {
   "cell_type": "markdown",
   "id": "9f189dc2",
   "metadata": {},
   "source": [
    "If you have a collection of values in a list, tuple etc. Python allows you to extract the values into variables. This is called unpacking."
   ]
  },
  {
   "cell_type": "code",
   "execution_count": 34,
   "id": "e4eb28e7",
   "metadata": {},
   "outputs": [],
   "source": [
    "fruits = [\"apple\", \"banana\", \"cherry\"]\n",
    "x, y, z = fruits\n",
    " "
   ]
  },
  {
   "cell_type": "code",
   "execution_count": 35,
   "id": "faa24c5e",
   "metadata": {},
   "outputs": [
    {
     "data": {
      "text/plain": [
       "'apple'"
      ]
     },
     "execution_count": 35,
     "metadata": {},
     "output_type": "execute_result"
    }
   ],
   "source": [
    "x"
   ]
  },
  {
   "cell_type": "code",
   "execution_count": 36,
   "id": "9f510cc1",
   "metadata": {},
   "outputs": [
    {
     "data": {
      "text/plain": [
       "'banana'"
      ]
     },
     "execution_count": 36,
     "metadata": {},
     "output_type": "execute_result"
    }
   ],
   "source": [
    "y"
   ]
  },
  {
   "cell_type": "code",
   "execution_count": 37,
   "id": "72ebb057",
   "metadata": {},
   "outputs": [
    {
     "data": {
      "text/plain": [
       "'cherry'"
      ]
     },
     "execution_count": 37,
     "metadata": {},
     "output_type": "execute_result"
    }
   ],
   "source": [
    "z"
   ]
  },
  {
   "cell_type": "markdown",
   "id": "e3868167",
   "metadata": {},
   "source": [
    "### Global Variables"
   ]
  },
  {
   "cell_type": "markdown",
   "id": "d98c5ede",
   "metadata": {},
   "source": [
    "\n",
    "Variables that are created outside of a function (as in all of the examples above) are known as global variables.\n",
    "\n",
    "Global variables can be used by everyone, both inside of functions and outside."
   ]
  },
  {
   "cell_type": "code",
   "execution_count": 39,
   "id": "c9a9af4d",
   "metadata": {},
   "outputs": [
    {
     "name": "stdout",
     "output_type": "stream",
     "text": [
      "my clg name was Gkvk\n"
     ]
    }
   ],
   "source": [
    "x='Gkvk'\n",
    "\n",
    "def myfun():\n",
    "    print('my clg name is '+ x)\n",
    "    \n",
    "myfun()"
   ]
  },
  {
   "cell_type": "code",
   "execution_count": 43,
   "id": "b0f54088",
   "metadata": {},
   "outputs": [
    {
     "name": "stdout",
     "output_type": "stream",
     "text": [
      "my clg name is GKVK\n"
     ]
    }
   ],
   "source": [
    " # local variable\n",
    "\n",
    "def myfun():\n",
    "    x='GKVK'\n",
    "    print('my clg name is '+ x)\n",
    "    \n",
    "myfun()"
   ]
  },
  {
   "cell_type": "code",
   "execution_count": null,
   "id": "415eb6f8",
   "metadata": {},
   "outputs": [],
   "source": []
  }
 ],
 "metadata": {
  "kernelspec": {
   "display_name": "Python 3 (ipykernel)",
   "language": "python",
   "name": "python3"
  },
  "language_info": {
   "codemirror_mode": {
    "name": "ipython",
    "version": 3
   },
   "file_extension": ".py",
   "mimetype": "text/x-python",
   "name": "python",
   "nbconvert_exporter": "python",
   "pygments_lexer": "ipython3",
   "version": "3.9.7"
  }
 },
 "nbformat": 4,
 "nbformat_minor": 5
}
