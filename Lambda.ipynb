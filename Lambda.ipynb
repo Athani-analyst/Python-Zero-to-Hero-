{
 "cells": [
  {
   "cell_type": "markdown",
   "id": "1fce0d3f",
   "metadata": {},
   "source": [
    "# lamda function"
   ]
  },
  {
   "cell_type": "markdown",
   "id": "bf04a170",
   "metadata": {},
   "source": [
    "A lambda function is a small anonymous function.\n",
    "\n",
    "A lambda function can take any number of arguments, but can only have one expression."
   ]
  },
  {
   "cell_type": "markdown",
   "id": "fd225fd7",
   "metadata": {},
   "source": [
    "###### Syntax"
   ]
  },
  {
   "cell_type": "code",
   "execution_count": null,
   "id": "0a02ebcd",
   "metadata": {},
   "outputs": [],
   "source": [
    "lambda arguments : expression"
   ]
  },
  {
   "cell_type": "code",
   "execution_count": 2,
   "id": "ce429adf",
   "metadata": {},
   "outputs": [],
   "source": [
    "def double(n):\n",
    "    return n*n"
   ]
  },
  {
   "cell_type": "code",
   "execution_count": 7,
   "id": "a6d6a916",
   "metadata": {},
   "outputs": [
    {
     "data": {
      "text/plain": [
       "225"
      ]
     },
     "execution_count": 7,
     "metadata": {},
     "output_type": "execute_result"
    }
   ],
   "source": [
    "double(15)"
   ]
  },
  {
   "cell_type": "code",
   "execution_count": 11,
   "id": "1ac36a16",
   "metadata": {},
   "outputs": [],
   "source": [
    "doble=lambda n:n*n"
   ]
  },
  {
   "cell_type": "code",
   "execution_count": 12,
   "id": "d7602256",
   "metadata": {},
   "outputs": [
    {
     "data": {
      "text/plain": [
       "144"
      ]
     },
     "execution_count": 12,
     "metadata": {},
     "output_type": "execute_result"
    }
   ],
   "source": [
    "double(12)"
   ]
  },
  {
   "cell_type": "markdown",
   "id": "dab634d5",
   "metadata": {},
   "source": [
    "###### Multiply argument a with argument b and return the result:"
   ]
  },
  {
   "cell_type": "code",
   "execution_count": 13,
   "id": "dc1d2922",
   "metadata": {},
   "outputs": [],
   "source": [
    "def multi(a,b):\n",
    "    return a*b"
   ]
  },
  {
   "cell_type": "code",
   "execution_count": 16,
   "id": "1aa0d80b",
   "metadata": {},
   "outputs": [],
   "source": [
    "multification=lambda a,b:a*b"
   ]
  },
  {
   "cell_type": "code",
   "execution_count": 17,
   "id": "99bef87f",
   "metadata": {},
   "outputs": [
    {
     "data": {
      "text/plain": [
       "5502003552"
      ]
     },
     "execution_count": 17,
     "metadata": {},
     "output_type": "execute_result"
    }
   ],
   "source": [
    "multification(234567,23456)"
   ]
  },
  {
   "cell_type": "code",
   "execution_count": 18,
   "id": "961cbd17",
   "metadata": {},
   "outputs": [],
   "source": [
    "#Summarize argument a, b, and c and return the result:\n",
    "\n",
    "x= lambda a,b,c:a*b*c"
   ]
  },
  {
   "cell_type": "code",
   "execution_count": 19,
   "id": "e55fb139",
   "metadata": {},
   "outputs": [
    {
     "data": {
      "text/plain": [
       "20"
      ]
     },
     "execution_count": 19,
     "metadata": {},
     "output_type": "execute_result"
    }
   ],
   "source": [
    "x(1,4,5)"
   ]
  },
  {
   "cell_type": "markdown",
   "id": "8a6b05cb",
   "metadata": {},
   "source": [
    "### Why Use Lambda Functions?"
   ]
  },
  {
   "cell_type": "markdown",
   "id": "14b94d2a",
   "metadata": {},
   "source": [
    "The power of lambda is better shown when you use them as an anonymous function inside another function.\n",
    "\n",
    "Say you have a function definition that takes one argument, and that argument will be multiplied with an unknown number:"
   ]
  },
  {
   "cell_type": "code",
   "execution_count": 20,
   "id": "3fac6fa8",
   "metadata": {},
   "outputs": [],
   "source": [
    "def myfunc(n):\n",
    "    return lambda a : a * n"
   ]
  },
  {
   "cell_type": "code",
   "execution_count": 22,
   "id": "df909255",
   "metadata": {},
   "outputs": [
    {
     "name": "stdout",
     "output_type": "stream",
     "text": [
      "<function myfunc.<locals>.<lambda> at 0x0000013D3C2AED30>\n"
     ]
    }
   ],
   "source": [
    "print(myfunc(3))"
   ]
  },
  {
   "cell_type": "markdown",
   "id": "1db5ed70",
   "metadata": {},
   "source": [
    "### lambda functions as keys to sort()"
   ]
  },
  {
   "cell_type": "code",
   "execution_count": 35,
   "id": "3826cb0b",
   "metadata": {},
   "outputs": [],
   "source": [
    "fruits=['appale','banana','cherry','pineapple','Mulberry','Guava','Raspberry','Watermelon']"
   ]
  },
  {
   "cell_type": "code",
   "execution_count": 36,
   "id": "c32ebf3c",
   "metadata": {},
   "outputs": [],
   "source": [
    "fruits.sort() #sort the items based on alphabetical order"
   ]
  },
  {
   "cell_type": "code",
   "execution_count": 37,
   "id": "441d926e",
   "metadata": {},
   "outputs": [
    {
     "data": {
      "text/plain": [
       "['Guava',\n",
       " 'Mulberry',\n",
       " 'Raspberry',\n",
       " 'Watermelon',\n",
       " 'appale',\n",
       " 'banana',\n",
       " 'cherry',\n",
       " 'pineapple']"
      ]
     },
     "execution_count": 37,
     "metadata": {},
     "output_type": "execute_result"
    }
   ],
   "source": [
    "fruits"
   ]
  },
  {
   "cell_type": "markdown",
   "id": "b3e0cee8",
   "metadata": {},
   "source": [
    "Instead of this, suppose we want to sort the items of this list based on the length of the name.\n",
    "\n",
    "We can do this by passing an optional key argument to the sort() method."
   ]
  },
  {
   "cell_type": "code",
   "execution_count": 38,
   "id": "485f6d34",
   "metadata": {},
   "outputs": [],
   "source": [
    "fruits.sort(key= lambda x:len(x)) # sorted the item based on the length"
   ]
  },
  {
   "cell_type": "code",
   "execution_count": 39,
   "id": "98b5c951",
   "metadata": {},
   "outputs": [
    {
     "data": {
      "text/plain": [
       "['Guava',\n",
       " 'appale',\n",
       " 'banana',\n",
       " 'cherry',\n",
       " 'Mulberry',\n",
       " 'Raspberry',\n",
       " 'pineapple',\n",
       " 'Watermelon']"
      ]
     },
     "execution_count": 39,
     "metadata": {},
     "output_type": "execute_result"
    }
   ],
   "source": [
    "fruits"
   ]
  },
  {
   "cell_type": "markdown",
   "id": "615b570d",
   "metadata": {},
   "source": [
    "Note: Lambda functions are used more frequently with Python builtin functions like map(), filter() and reduce."
   ]
  }
 ],
 "metadata": {
  "kernelspec": {
   "display_name": "Python 3 (ipykernel)",
   "language": "python",
   "name": "python3"
  },
  "language_info": {
   "codemirror_mode": {
    "name": "ipython",
    "version": 3
   },
   "file_extension": ".py",
   "mimetype": "text/x-python",
   "name": "python",
   "nbconvert_exporter": "python",
   "pygments_lexer": "ipython3",
   "version": "3.9.13"
  }
 },
 "nbformat": 4,
 "nbformat_minor": 5
}
