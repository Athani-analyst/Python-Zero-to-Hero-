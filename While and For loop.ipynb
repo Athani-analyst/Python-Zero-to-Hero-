{
 "cells": [
  {
   "cell_type": "markdown",
   "id": "fc6e41d3",
   "metadata": {},
   "source": [
    "# Python While Loops"
   ]
  },
  {
   "cell_type": "markdown",
   "id": "0609478d",
   "metadata": {},
   "source": [
    "Python has two primitive loop commands:\n",
    "\n",
    "while loops\n",
    "\n",
    "for loops"
   ]
  },
  {
   "cell_type": "markdown",
   "id": "1701621e",
   "metadata": {},
   "source": [
    "The while Loop\n",
    "\n",
    "With the while loop we can execute a set of statements as long as a condition is true."
   ]
  },
  {
   "cell_type": "code",
   "execution_count": 1,
   "id": "ab9198f3",
   "metadata": {},
   "outputs": [
    {
     "name": "stdout",
     "output_type": "stream",
     "text": [
      "1\n",
      "2\n",
      "3\n",
      "4\n",
      "5\n"
     ]
    }
   ],
   "source": [
    "i=1\n",
    "while i<6:\n",
    "    print(i)\n",
    "    i += 1"
   ]
  },
  {
   "cell_type": "code",
   "execution_count": 6,
   "id": "d71c0838",
   "metadata": {},
   "outputs": [
    {
     "name": "stdout",
     "output_type": "stream",
     "text": [
      "1\n",
      "2\n",
      "3\n",
      "4\n",
      "5\n",
      "Number is empty\n"
     ]
    }
   ],
   "source": [
    "note=5\n",
    "i=1\n",
    "j=1\n",
    "while i <note:\n",
    "    print(i)\n",
    "    i += 1\n",
    "else:\n",
    "    while j<2:\n",
    "        print(i)\n",
    "        j=j+1\n",
    "    print('Number is empty')"
   ]
  },
  {
   "cell_type": "code",
   "execution_count": 7,
   "id": "3db04157",
   "metadata": {},
   "outputs": [
    {
     "data": {
      "text/plain": [
       "'n'"
      ]
     },
     "execution_count": 7,
     "metadata": {},
     "output_type": "execute_result"
    }
   ],
   "source": [
    "s='manju'\n",
    "s[2]"
   ]
  },
  {
   "cell_type": "code",
   "execution_count": 8,
   "id": "d9434df0",
   "metadata": {},
   "outputs": [],
   "source": [
    "m='my name is manjunath'"
   ]
  },
  {
   "cell_type": "code",
   "execution_count": 9,
   "id": "d2d7027c",
   "metadata": {},
   "outputs": [
    {
     "data": {
      "text/plain": [
       "'my name is manjunath'"
      ]
     },
     "execution_count": 9,
     "metadata": {},
     "output_type": "execute_result"
    }
   ],
   "source": [
    "m"
   ]
  },
  {
   "cell_type": "code",
   "execution_count": 12,
   "id": "d205476d",
   "metadata": {},
   "outputs": [
    {
     "name": "stdout",
     "output_type": "stream",
     "text": [
      "m\n",
      "y\n",
      " \n",
      "n\n",
      "a\n",
      "m\n",
      "e\n",
      " \n",
      "i\n",
      "s\n",
      " \n",
      "m\n",
      "a\n",
      "n\n",
      "j\n",
      "u\n",
      "n\n",
      "a\n",
      "t\n",
      "h\n"
     ]
    }
   ],
   "source": [
    "for i in m :\n",
    "    print(i)"
   ]
  },
  {
   "cell_type": "markdown",
   "id": "788ec89c",
   "metadata": {},
   "source": [
    "With the break statement we can stop the loop even if the while condition is true:\n",
    "\n",
    " "
   ]
  },
  {
   "cell_type": "code",
   "execution_count": 50,
   "id": "b38aee0a",
   "metadata": {},
   "outputs": [
    {
     "name": "stdout",
     "output_type": "stream",
     "text": [
      "m\n",
      "y\n",
      " \n",
      "n\n",
      "a\n",
      "m\n",
      "e\n",
      " \n",
      "i\n",
      "s\n",
      " \n",
      "m\n",
      "a\n",
      "n\n"
     ]
    }
   ],
   "source": [
    "for i in m:\n",
    "    if i=='j': \n",
    "        break\n",
    "    print(i)\n",
    "else:\n",
    "    if i=='i':\n",
    "        print('I got i')\n",
    "         "
   ]
  },
  {
   "cell_type": "code",
   "execution_count": 1,
   "id": "7c9fbcfa",
   "metadata": {},
   "outputs": [],
   "source": [
    "i=6\n",
    "while i<6 :\n",
    "    print(i)"
   ]
  },
  {
   "cell_type": "code",
   "execution_count": 2,
   "id": "e41268fa",
   "metadata": {},
   "outputs": [
    {
     "name": "stdout",
     "output_type": "stream",
     "text": [
      "1\n",
      "2\n"
     ]
    }
   ],
   "source": [
    "i=1\n",
    "while i<6:\n",
    "    if i==3:\n",
    "        break\n",
    "    print(i)\n",
    "    i+=1\n",
    "     "
   ]
  },
  {
   "cell_type": "code",
   "execution_count": 8,
   "id": "47bf6220",
   "metadata": {},
   "outputs": [
    {
     "name": "stdout",
     "output_type": "stream",
     "text": [
      "1\n",
      "2\n",
      "3\n",
      "4\n",
      "5\n",
      "6\n",
      "7\n",
      "8\n"
     ]
    }
   ],
   "source": [
    "i=1\n",
    "while i<9 :\n",
    "    print(i)\n",
    "    i += 1\n",
    " "
   ]
  },
  {
   "cell_type": "code",
   "execution_count": 5,
   "id": "1e48071e",
   "metadata": {},
   "outputs": [
    {
     "name": "stdout",
     "output_type": "stream",
     "text": [
      "1\n",
      "2\n",
      "3\n",
      "4\n",
      "5\n"
     ]
    }
   ],
   "source": [
    "i=1\n",
    "while i<6:\n",
    "    print(i)\n",
    "    i += 1"
   ]
  },
  {
   "cell_type": "markdown",
   "id": "f9f3a655",
   "metadata": {},
   "source": [
    "# Python For Loops"
   ]
  },
  {
   "cell_type": "markdown",
   "id": "0a065088",
   "metadata": {},
   "source": [
    "\n",
    "A for loop is used for iterating over a sequence (that is either a list, a tuple, a dictionary, a set, or a string).\n",
    "\n",
    "This is less like the for keyword in other programming languages, and works more like an iterator method as found in other object-orientated programming languages.\n",
    "\n",
    "With the for loop we can execute a set of statements, once for each item in a list, tuple, set etc."
   ]
  },
  {
   "cell_type": "code",
   "execution_count": 12,
   "id": "977701e6",
   "metadata": {},
   "outputs": [
    {
     "name": "stdout",
     "output_type": "stream",
     "text": [
      "A\n",
      "t\n",
      "h\n",
      "a\n",
      "n\n",
      "i\n"
     ]
    }
   ],
   "source": [
    "A=('Athani')\n",
    "for i in A:\n",
    "    print(i)"
   ]
  },
  {
   "cell_type": "code",
   "execution_count": 14,
   "id": "2183e384",
   "metadata": {},
   "outputs": [
    {
     "name": "stdout",
     "output_type": "stream",
     "text": [
      "A\n",
      "t\n",
      "h\n",
      "a\n",
      "n\n",
      "i\n"
     ]
    }
   ],
   "source": [
    "for i in \"Athani\":\n",
    "    print(i)"
   ]
  },
  {
   "cell_type": "markdown",
   "id": "c7b46d5b",
   "metadata": {},
   "source": [
    "The break Statement\n",
    "\n",
    "With the break statement we can stop the loop before it has looped through all the items:"
   ]
  },
  {
   "cell_type": "code",
   "execution_count": 20,
   "id": "412ebbad",
   "metadata": {},
   "outputs": [
    {
     "name": "stdout",
     "output_type": "stream",
     "text": [
      "A\n",
      "t\n",
      "h\n"
     ]
    }
   ],
   "source": [
    "for i in 'Athani':\n",
    "    print(i)\n",
    "    if i=='h':\n",
    "        break\n"
   ]
  },
  {
   "cell_type": "code",
   "execution_count": 28,
   "id": "95f19140",
   "metadata": {},
   "outputs": [],
   "source": [
    "fruits = [\"apple\", \"banana\", \"cherry\"]\n",
    "for x in fruits:\n",
    "      if x == \"banana\":\n",
    "        break\n",
    "        print(x)"
   ]
  },
  {
   "cell_type": "code",
   "execution_count": 43,
   "id": "7819a617",
   "metadata": {},
   "outputs": [
    {
     "name": "stdout",
     "output_type": "stream",
     "text": [
      "+ \r\n",
      "+ + \r\n",
      "+ + + \r\n",
      "+ + + + \r\n",
      "+ + + + + \r\n",
      "+ + + + + + \r\n",
      "+ + + + + + + \r\n"
     ]
    }
   ],
   "source": [
    "n=7\n",
    "for i in range(0,n):\n",
    "    for j in range(0,i+1):\n",
    "        print(\"+ \",end='')\n",
    "    print('\\r')\n",
    " "
   ]
  },
  {
   "cell_type": "code",
   "execution_count": 60,
   "id": "5d5ec694",
   "metadata": {},
   "outputs": [],
   "source": [
    "a=['manju','vdsfdsf',2345,True,45+8j,[3,5,6,'mj']]\n",
    "     "
   ]
  },
  {
   "cell_type": "code",
   "execution_count": 87,
   "id": "a83553e8",
   "metadata": {},
   "outputs": [
    {
     "name": "stdout",
     "output_type": "stream",
     "text": [
      "14\n"
     ]
    }
   ],
   "source": [
    " for i in a:\n",
    "        if type(i)==list:\n",
    "            n=0\n",
    "            for j in i:\n",
    "                if type(j)==int:\n",
    "                    n=n+j\n",
    "            print(n)"
   ]
  },
  {
   "cell_type": "code",
   "execution_count": 89,
   "id": "73030330",
   "metadata": {},
   "outputs": [
    {
     "name": "stdout",
     "output_type": "stream",
     "text": [
      "manju\n",
      "vdsfdsf\n",
      "2345\n",
      "True\n",
      "(45+8j)\n",
      "[3, 5, 6, 'mj']\n"
     ]
    }
   ],
   "source": [
    "for i in a:\n",
    "    print(i)"
   ]
  },
  {
   "cell_type": "markdown",
   "id": "e82a3516",
   "metadata": {},
   "source": [
    "## The continue Statement"
   ]
  },
  {
   "cell_type": "markdown",
   "id": "dd18420c",
   "metadata": {},
   "source": [
    "With the continue statement we can stop the current iteration of the loop, and continue with the next:"
   ]
  },
  {
   "cell_type": "code",
   "execution_count": 113,
   "id": "42784ea8",
   "metadata": {},
   "outputs": [
    {
     "name": "stdout",
     "output_type": "stream",
     "text": [
      "apple\n",
      "cherry\n"
     ]
    }
   ],
   "source": [
    "fruits = [\"apple\", \"banana\", \"cherry\"]\n",
    "for x in fruits:\n",
    "      if x == \"banana\":\n",
    "        continue\n",
    "      print(x)"
   ]
  },
  {
   "cell_type": "code",
   "execution_count": 115,
   "id": "01e91fbb",
   "metadata": {},
   "outputs": [
    {
     "name": "stdout",
     "output_type": "stream",
     "text": [
      "0\n",
      "1\n",
      "2\n",
      "3\n",
      "4\n",
      "5\n",
      "6\n",
      "7\n"
     ]
    }
   ],
   "source": [
    "for i in range(8):\n",
    "    print(i)"
   ]
  },
  {
   "cell_type": "code",
   "execution_count": 132,
   "id": "21fe1e4d",
   "metadata": {},
   "outputs": [
    {
     "name": "stdout",
     "output_type": "stream",
     "text": [
      "1\n",
      "2\n",
      "3\n",
      "4\n"
     ]
    }
   ],
   "source": [
    "for i in range(1,10):\n",
    "    if i==5:\n",
    "        break\n",
    "    print(i)"
   ]
  },
  {
   "cell_type": "code",
   "execution_count": 133,
   "id": "6e33c027",
   "metadata": {},
   "outputs": [
    {
     "name": "stdout",
     "output_type": "stream",
     "text": [
      "1\n",
      "3\n",
      "5\n",
      "7\n",
      "9\n",
      "11\n",
      "13\n",
      "15\n",
      "17\n",
      "19\n"
     ]
    }
   ],
   "source": [
    "for i in range(1,20,2):\n",
    "    print(i)"
   ]
  },
  {
   "cell_type": "code",
   "execution_count": null,
   "id": "8b12a98f",
   "metadata": {},
   "outputs": [],
   "source": []
  }
 ],
 "metadata": {
  "kernelspec": {
   "display_name": "Python 3 (ipykernel)",
   "language": "python",
   "name": "python3"
  },
  "language_info": {
   "codemirror_mode": {
    "name": "ipython",
    "version": 3
   },
   "file_extension": ".py",
   "mimetype": "text/x-python",
   "name": "python",
   "nbconvert_exporter": "python",
   "pygments_lexer": "ipython3",
   "version": "3.9.7"
  }
 },
 "nbformat": 4,
 "nbformat_minor": 5
}
