{
 "cells": [
  {
   "cell_type": "markdown",
   "id": "531f2c46",
   "metadata": {},
   "source": [
    "# Welcome To My Jupyter\n",
    "                              Athani Analyst"
   ]
  },
  {
   "cell_type": "markdown",
   "id": "98ea3f10",
   "metadata": {},
   "source": [
    "## Common Mistakes That Beginners May Make."
   ]
  },
  {
   "cell_type": "markdown",
   "id": "80b50946",
   "metadata": {},
   "source": [
    "#### 1. Spelling Error"
   ]
  },
  {
   "cell_type": "markdown",
   "id": "9363f763",
   "metadata": {},
   "source": [
    "This one is obvious. Things such as using wrong variable names and misspelling words will cause an error. "
   ]
  },
  {
   "cell_type": "code",
   "execution_count": 2,
   "id": "c3860a1e",
   "metadata": {},
   "outputs": [],
   "source": [
    "annual_income=95000"
   ]
  },
  {
   "cell_type": "code",
   "execution_count": 3,
   "id": "6e220f1b",
   "metadata": {},
   "outputs": [
    {
     "ename": "NameError",
     "evalue": "name 'annual_icome' is not defined",
     "output_type": "error",
     "traceback": [
      "\u001b[1;31m---------------------------------------------------------------------------\u001b[0m",
      "\u001b[1;31mNameError\u001b[0m                                 Traceback (most recent call last)",
      "\u001b[1;32m~\\AppData\\Local\\Temp\\ipykernel_5656\\2067520611.py\u001b[0m in \u001b[0;36m<module>\u001b[1;34m\u001b[0m\n\u001b[1;32m----> 1\u001b[1;33m \u001b[0mprint\u001b[0m\u001b[1;33m(\u001b[0m\u001b[0mannual_icome\u001b[0m\u001b[1;33m)\u001b[0m\u001b[1;33m\u001b[0m\u001b[1;33m\u001b[0m\u001b[0m\n\u001b[0m",
      "\u001b[1;31mNameError\u001b[0m: name 'annual_icome' is not defined"
     ]
    }
   ],
   "source": [
    "print(annual_icome)"
   ]
  },
  {
   "cell_type": "markdown",
   "id": "027181a5",
   "metadata": {},
   "source": [
    "In most cases, reading the error message carefully helps us to fix these problems easily.\n",
    "\n",
    "In the output, it's clearly stating that annual_icome is not defined.\n",
    "\n",
    "Also, Python is case-sensitive. So annual_income and Annual_income are also not the same."
   ]
  },
  {
   "cell_type": "markdown",
   "id": "1d2cd218",
   "metadata": {},
   "source": [
    "#### 2. Adding Spaces at the Beginning"
   ]
  },
  {
   "cell_type": "markdown",
   "id": "21254373",
   "metadata": {},
   "source": [
    "In Python, indentation has a special meaning. So, if we add unnecessary spaces at the beginning, we will get an error."
   ]
  },
  {
   "cell_type": "code",
   "execution_count": 13,
   "id": "66dce91c",
   "metadata": {},
   "outputs": [
    {
     "ename": "IndentationError",
     "evalue": "expected an indented block (2202089626.py, line 2)",
     "output_type": "error",
     "traceback": [
      "\u001b[1;36m  File \u001b[1;32m\"C:\\Users\\Manjunath\\AppData\\Local\\Temp\\ipykernel_5656\\2202089626.py\"\u001b[1;36m, line \u001b[1;32m2\u001b[0m\n\u001b[1;33m    print('a')\u001b[0m\n\u001b[1;37m    ^\u001b[0m\n\u001b[1;31mIndentationError\u001b[0m\u001b[1;31m:\u001b[0m expected an indented block\n"
     ]
    }
   ],
   "source": [
    "if 'a'==2:\n",
    "print('a') "
   ]
  },
  {
   "cell_type": "markdown",
   "id": "f2be77e3",
   "metadata": {},
   "source": [
    "#### 3. Error Because of Quotation Marks"
   ]
  },
  {
   "cell_type": "markdown",
   "id": "a6f2b294",
   "metadata": {},
   "source": [
    "We have seen many beginners making this mistake. They usually forget to add the ending quotation marks in a string."
   ]
  },
  {
   "cell_type": "code",
   "execution_count": 14,
   "id": "609b5d71",
   "metadata": {},
   "outputs": [
    {
     "ename": "SyntaxError",
     "evalue": "EOL while scanning string literal (3574047905.py, line 1)",
     "output_type": "error",
     "traceback": [
      "\u001b[1;36m  File \u001b[1;32m\"C:\\Users\\Manjunath\\AppData\\Local\\Temp\\ipykernel_5656\\3574047905.py\"\u001b[1;36m, line \u001b[1;32m1\u001b[0m\n\u001b[1;33m    print('hello)\u001b[0m\n\u001b[1;37m                 ^\u001b[0m\n\u001b[1;31mSyntaxError\u001b[0m\u001b[1;31m:\u001b[0m EOL while scanning string literal\n"
     ]
    }
   ],
   "source": [
    "print('hello)"
   ]
  },
  {
   "cell_type": "markdown",
   "id": "fc94965c",
   "metadata": {},
   "source": [
    "Here, Python doesn't know what 'Hello is.\n",
    "\n",
    "'Hello not a string because it doesn't have the ending quotation mark. And, it's not a variable because we cannot use quotation marks in variable names."
   ]
  },
  {
   "cell_type": "markdown",
   "id": "498c4dab",
   "metadata": {},
   "source": [
    "#### 4. Forgetting Commas in the print() Function"
   ]
  },
  {
   "cell_type": "code",
   "execution_count": 15,
   "id": "8becb729",
   "metadata": {},
   "outputs": [
    {
     "ename": "SyntaxError",
     "evalue": "invalid syntax (3025151499.py, line 2)",
     "output_type": "error",
     "traceback": [
      "\u001b[1;36m  File \u001b[1;32m\"C:\\Users\\Manjunath\\AppData\\Local\\Temp\\ipykernel_5656\\3025151499.py\"\u001b[1;36m, line \u001b[1;32m2\u001b[0m\n\u001b[1;33m    print('may age is:' age)\u001b[0m\n\u001b[1;37m                        ^\u001b[0m\n\u001b[1;31mSyntaxError\u001b[0m\u001b[1;31m:\u001b[0m invalid syntax\n"
     ]
    }
   ],
   "source": [
    "age=25\n",
    "print('Age:' age)"
   ]
  },
  {
   "cell_type": "code",
   "execution_count": null,
   "id": "3b4b1e9d",
   "metadata": {},
   "outputs": [],
   "source": [
    "Here, Python interprets 'Age:' age as a single item. Since it's neither a string nor a variable, we get an error."
   ]
  }
 ],
 "metadata": {
  "kernelspec": {
   "display_name": "Python 3 (ipykernel)",
   "language": "python",
   "name": "python3"
  },
  "language_info": {
   "codemirror_mode": {
    "name": "ipython",
    "version": 3
   },
   "file_extension": ".py",
   "mimetype": "text/x-python",
   "name": "python",
   "nbconvert_exporter": "python",
   "pygments_lexer": "ipython3",
   "version": "3.9.13"
  }
 },
 "nbformat": 4,
 "nbformat_minor": 5
}
