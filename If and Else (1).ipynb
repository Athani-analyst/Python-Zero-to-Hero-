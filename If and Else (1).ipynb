{
 "cells": [
  {
   "cell_type": "markdown",
   "id": "2ea4548d",
   "metadata": {},
   "source": [
    "Here is a link for more codes:\n",
    "https://github.com/Athani-analyst\n",
    "\n",
    "***Happy coding!***"
   ]
  },
  {
   "cell_type": "markdown",
   "id": "c56caf3c",
   "metadata": {},
   "source": [
    "# If...Else"
   ]
  },
  {
   "cell_type": "markdown",
   "id": "2d10f24c",
   "metadata": {},
   "source": [
    "Python Conditions and If statements\n",
    "Python supports the usual logical conditions from mathematics:\n",
    "\n",
    "- Equals: a == b\n",
    "- Not Equals: a != b\n",
    "- Less than: a < b\n",
    "- Less than or equal to: a <= b\n",
    "- Greater than: a > b\n",
    "- Greater than or equal to: a >= b\n",
    "\n",
    "These conditions can be used in several ways, most commonly in **\"if statements\"** and loops.\n",
    "\n"
   ]
  },
  {
   "cell_type": "markdown",
   "id": "5ae614ff",
   "metadata": {},
   "source": [
    "###### An \"if statement\" is written by using the ***if*** keyword.\n",
    "\n"
   ]
  },
  {
   "cell_type": "markdown",
   "id": "e507b565",
   "metadata": {},
   "source": [
    "The syntax of the if statement is:\n",
    "\n",
    "if test_condition:\n",
    "    statement(s)"
   ]
  },
  {
   "cell_type": "code",
   "execution_count": 8,
   "id": "b2a70793",
   "metadata": {},
   "outputs": [
    {
     "name": "stdout",
     "output_type": "stream",
     "text": [
      "b is greater than a\n"
     ]
    }
   ],
   "source": [
    "a=33\n",
    "b=200\n",
    "if b>a:\n",
    "    print(\"b is greater than a\")\n"
   ]
  },
  {
   "cell_type": "markdown",
   "id": "8fe90c5f",
   "metadata": {},
   "source": [
    "If test_condition is True, the body of the if statement is executed.\n",
    "\n",
    "However, if test_condition is False, the body of the if statement is skipped from execution."
   ]
  },
  {
   "cell_type": "code",
   "execution_count": 51,
   "id": "af585064",
   "metadata": {},
   "outputs": [
    {
     "name": "stdout",
     "output_type": "stream",
     "text": [
      "a is greater than b\n"
     ]
    }
   ],
   "source": [
    "a=10\n",
    "b=5\n",
    "\n",
    "if a>b:\n",
    "    print(\"a is greater than b\")\n",
    "    "
   ]
  },
  {
   "cell_type": "markdown",
   "id": "e1d84550",
   "metadata": {},
   "source": [
    "## elif"
   ]
  },
  {
   "cell_type": "markdown",
   "id": "d3dbe254",
   "metadata": {},
   "source": [
    "The elif keyword catches anything which isn't caught by the preceding conditions."
   ]
  },
  {
   "cell_type": "code",
   "execution_count": 52,
   "id": "e1e5cd4e",
   "metadata": {},
   "outputs": [
    {
     "name": "stdout",
     "output_type": "stream",
     "text": [
      "b is greater than a\n"
     ]
    }
   ],
   "source": [
    "a=33\n",
    "b=200\n",
    "if a>b:\n",
    "    print('a is greater than b')\n",
    "elif b>a:\n",
    "    print('b is greater than a')"
   ]
  },
  {
   "cell_type": "markdown",
   "id": "39a7fcbe",
   "metadata": {},
   "source": [
    "## else"
   ]
  },
  {
   "cell_type": "markdown",
   "id": "17b09ad2",
   "metadata": {},
   "source": [
    "The else keyword catches anything which isn't caught by the preceding conditions."
   ]
  },
  {
   "cell_type": "code",
   "execution_count": 53,
   "id": "22006c12",
   "metadata": {},
   "outputs": [
    {
     "name": "stdout",
     "output_type": "stream",
     "text": [
      "a is greater than b\n"
     ]
    }
   ],
   "source": [
    "a = 200\n",
    "b = 33\n",
    "if b > a:\n",
    "    print(\"b is greater than a\")\n",
    "elif a == b:\n",
    "    print(\"a and b are equal\")\n",
    "else:\n",
    "    print(\"a is greater than b\")"
   ]
  },
  {
   "cell_type": "markdown",
   "id": "3ba8628f",
   "metadata": {},
   "source": [
    "In this example a is greater than b, so the first condition is not true, also the elif condition is not true, so we go to the else condition and print to screen that \"a is greater than b\"."
   ]
  },
  {
   "cell_type": "code",
   "execution_count": 59,
   "id": "27381520",
   "metadata": {},
   "outputs": [
    {
     "name": "stdout",
     "output_type": "stream",
     "text": [
      "Enter the marks:130\n",
      "You have passed your exam.\n",
      "congratulations!\n"
     ]
    }
   ],
   "source": [
    "a=int(input('Enter the marks:'))\n",
    "if a>50:\n",
    "    print(\"You have passed your exam.\")\n",
    "    print(\"congratulations!\")\n",
    "else:\n",
    "    print(\"Sorry, you have failed your exam.\")"
   ]
  },
  {
   "cell_type": "markdown",
   "id": "5bb6f0f2",
   "metadata": {},
   "source": [
    "if test_condition1:\n",
    "    statements_1\n",
    "elif test_condition2:\n",
    "    statement_2\n",
    "...\n",
    "else:\n",
    "    statements_3"
   ]
  },
  {
   "cell_type": "code",
   "execution_count": 60,
   "id": "9b4b77d1",
   "metadata": {},
   "outputs": [
    {
     "name": "stdout",
     "output_type": "stream",
     "text": [
      "enter your score130\n",
      "plese enter valid score\n"
     ]
    }
   ],
   "source": [
    "score=int(input(\"enter your score\"))\n",
    "if score>100 or score<0:\n",
    "    print(\"plese enter valid score\")\n",
    "elif score>50:\n",
    "    print(\"You have passed the exam\")\n",
    "    print(\"congrtulations!\")\n",
    "else:\n",
    "    print(\"sorry, you have failed you exam\")"
   ]
  },
  {
   "cell_type": "code",
   "execution_count": 31,
   "id": "9582612e",
   "metadata": {},
   "outputs": [
    {
     "name": "stdout",
     "output_type": "stream",
     "text": [
      "enter your score70\n",
      "First class\n"
     ]
    }
   ],
   "source": [
    "score=int(input(\"enter your score\"))\n",
    "if score>100 or score<0:\n",
    "    print(\"plese enter valid score\")\n",
    "elif score>85:\n",
    "    print(\"You have passed the exam with distinction\")\n",
    "    print(\"congrtulations!\")\n",
    "elif score<85 and score>60:\n",
    "    print(\"First class\")\n",
    "else:\n",
    "    print(\"sorry, you have failed you exam\")"
   ]
  },
  {
   "cell_type": "code",
   "execution_count": 63,
   "id": "3e6aa77b",
   "metadata": {},
   "outputs": [
    {
     "name": "stdout",
     "output_type": "stream",
     "text": [
      "enter the user name: Manjunath\n",
      "enter the passwprd:sbabdkk\n",
      "please check the password\n"
     ]
    }
   ],
   "source": [
    "user_name=input(\"enter the user name: \")\n",
    "password=input(\"enter the passwprd:\")\n",
    "us=\"Manjunath\"\n",
    "ps=\"Manju@123\"\n",
    "if user_name!=us:\n",
    "    print(\"please check the username\")\n",
    "elif password!=ps:\n",
    "    print(\"please check the password\")\n",
    "else:\n",
    "    print(\"Plaese wait it's loging\")"
   ]
  },
  {
   "cell_type": "markdown",
   "id": "396ec468",
   "metadata": {},
   "source": [
    "## Short Hand If"
   ]
  },
  {
   "cell_type": "code",
   "execution_count": 17,
   "id": "a6db223c",
   "metadata": {},
   "outputs": [
    {
     "name": "stdout",
     "output_type": "stream",
     "text": [
      "a is greater than b\n"
     ]
    }
   ],
   "source": [
    "if a>b: print('a is greater than b')"
   ]
  },
  {
   "cell_type": "code",
   "execution_count": 64,
   "id": "fa2eaff8",
   "metadata": {},
   "outputs": [
    {
     "name": "stdout",
     "output_type": "stream",
     "text": [
      "b is greater than a\n"
     ]
    }
   ],
   "source": [
    "a=33\n",
    "b=200\n",
    "if b>a:\n",
    "    print(\"b is greater than a\")"
   ]
  },
  {
   "cell_type": "code",
   "execution_count": 65,
   "id": "08a3568f",
   "metadata": {},
   "outputs": [
    {
     "name": "stdout",
     "output_type": "stream",
     "text": [
      "b is greater than a\n"
     ]
    }
   ],
   "source": [
    "if b>a: print(\"b is greater than a\")"
   ]
  },
  {
   "cell_type": "code",
   "execution_count": 37,
   "id": "ef547b59",
   "metadata": {},
   "outputs": [],
   "source": [
    "a=200\n",
    "b=300"
   ]
  },
  {
   "cell_type": "code",
   "execution_count": 40,
   "id": "e8b976d8",
   "metadata": {},
   "outputs": [
    {
     "name": "stdout",
     "output_type": "stream",
     "text": [
      "b is greater than a\n"
     ]
    }
   ],
   "source": [
    "print(\"a is greter than b\") if a>b  else print(\"b is greater than a\")"
   ]
  },
  {
   "cell_type": "markdown",
   "id": "336d6a0c",
   "metadata": {},
   "source": [
    "## And"
   ]
  },
  {
   "cell_type": "markdown",
   "id": "74ba0ef5",
   "metadata": {},
   "source": [
    "The and keyword is a logical operator, and is used to combine conditional statements:"
   ]
  },
  {
   "cell_type": "code",
   "execution_count": 41,
   "id": "44e69523",
   "metadata": {},
   "outputs": [
    {
     "name": "stdout",
     "output_type": "stream",
     "text": [
      "Both conditions are True\n"
     ]
    }
   ],
   "source": [
    "a = 200\n",
    "b = 33\n",
    "c = 500\n",
    "if a > b and c > a:\n",
    "  print(\"Both conditions are True\")"
   ]
  },
  {
   "cell_type": "markdown",
   "id": "e8cee1c3",
   "metadata": {},
   "source": [
    "## Or"
   ]
  },
  {
   "cell_type": "markdown",
   "id": "08b33928",
   "metadata": {},
   "source": [
    "The or keyword is a logical operator, and is used to combine conditional statements:"
   ]
  },
  {
   "cell_type": "code",
   "execution_count": 43,
   "id": "9abf2828",
   "metadata": {},
   "outputs": [
    {
     "name": "stdout",
     "output_type": "stream",
     "text": [
      "At least one of the conditions is True\n"
     ]
    }
   ],
   "source": [
    "a = 200\n",
    "b = 33\n",
    "c = 500\n",
    "if a > b or a > c:\n",
    "  print(\"At least one of the conditions is True\")"
   ]
  },
  {
   "cell_type": "markdown",
   "id": "aa1d782d",
   "metadata": {},
   "source": [
    "## Nested If"
   ]
  },
  {
   "cell_type": "markdown",
   "id": "d563e725",
   "metadata": {},
   "source": [
    "You can have if statements inside if statements, this is called nested if statements."
   ]
  },
  {
   "cell_type": "code",
   "execution_count": 46,
   "id": "0aea9391",
   "metadata": {},
   "outputs": [
    {
     "name": "stdout",
     "output_type": "stream",
     "text": [
      "Above ten,\n",
      "and also above 20!\n"
     ]
    }
   ],
   "source": [
    "x = 41\n",
    "\n",
    "if x > 10:\n",
    "    print(\"Above ten,\")\n",
    "    if x > 20:\n",
    "        print(\"and also above 20!\")\n",
    "    else:\n",
    "        print(\"but not above 20.\")"
   ]
  },
  {
   "cell_type": "markdown",
   "id": "2038571e",
   "metadata": {},
   "source": [
    "## The pass Statement"
   ]
  },
  {
   "cell_type": "markdown",
   "id": "d2206e2f",
   "metadata": {},
   "source": [
    "if statements cannot be empty, but if you for some reason have an if statement with no content, put in the pass statement to avoid getting an error."
   ]
  },
  {
   "cell_type": "code",
   "execution_count": 71,
   "id": "31d48f54",
   "metadata": {},
   "outputs": [],
   "source": [
    "a = 33\n",
    "b = 200\n",
    "\n",
    "if b > a:\n",
    "    pass"
   ]
  },
  {
   "cell_type": "code",
   "execution_count": 72,
   "id": "660c5d13",
   "metadata": {},
   "outputs": [
    {
     "name": "stdout",
     "output_type": "stream",
     "text": [
      "b is greater than a\n"
     ]
    }
   ],
   "source": [
    "a=23\n",
    "b=45\n",
    "if a<b:\n",
    "    print(\"b is greater than a\") "
   ]
  },
  {
   "cell_type": "markdown",
   "id": "6428a608",
   "metadata": {},
   "source": [
    "# Programming Task"
   ]
  },
  {
   "cell_type": "markdown",
   "id": "8b1c24fd",
   "metadata": {},
   "source": [
    "Can you create a program to check whether a number is positive or negative or 0?\n",
    "\n",
    "To create this program, create a variable named number and assign a float value to it based on the user input. Then using a if statement, check if the number variable is positive or negative or 0.\n",
    "\n",
    "- If number is positive, print \"The number is positive\"\n",
    "- If number is 0, print \"The number is 0\"\n",
    "- If number is negative, print \"The number is negative\""
   ]
  },
  {
   "cell_type": "code",
   "execution_count": 91,
   "id": "3a685cdb",
   "metadata": {},
   "outputs": [
    {
     "name": "stdout",
     "output_type": "stream",
     "text": [
      "enter a nuber:-23\n",
      "negative\n"
     ]
    }
   ],
   "source": [
    "a=int(input(\"enter a nuber:\"))\n",
    "if a>0:\n",
    "    print(\"possitive\")\n",
    "elif a==0:\n",
    "    print(\"zero\")\n",
    "else:\n",
    "    print(\"negative\")"
   ]
  }
 ],
 "metadata": {
  "kernelspec": {
   "display_name": "Python 3 (ipykernel)",
   "language": "python",
   "name": "python3"
  },
  "language_info": {
   "codemirror_mode": {
    "name": "ipython",
    "version": 3
   },
   "file_extension": ".py",
   "mimetype": "text/x-python",
   "name": "python",
   "nbconvert_exporter": "python",
   "pygments_lexer": "ipython3",
   "version": "3.9.13"
  }
 },
 "nbformat": 4,
 "nbformat_minor": 5
}
