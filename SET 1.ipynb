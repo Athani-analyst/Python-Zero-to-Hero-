{
 "cells": [
  {
   "cell_type": "markdown",
   "id": "3272d4da",
   "metadata": {},
   "source": [
    "# Python Sets\n"
   ]
  },
  {
   "cell_type": "markdown",
   "id": "4f59c496",
   "metadata": {},
   "source": [
    "Sets are used to store multiple items in a single variable.\n",
    "\n",
    "Set is one of 4 built-in data types in Python used to store collections of data, the other 3 are List, Tuple, and Dictionary, all with different qualities and usage.\n",
    "\n",
    "A set is a collection which is unordered, unchangeable*, and unindexed."
   ]
  },
  {
   "cell_type": "markdown",
   "id": "b741591f",
   "metadata": {},
   "source": [
    "* Note: Set items are unchangeable, but you can remove items and add new items."
   ]
  },
  {
   "cell_type": "markdown",
   "id": "4b933e87",
   "metadata": {},
   "source": [
    "Sets are written with curly brackets."
   ]
  },
  {
   "cell_type": "markdown",
   "id": "bff681f8",
   "metadata": {},
   "source": [
    "Note: Sets are unordered, so you cannot be sure in which order the items will appear."
   ]
  },
  {
   "cell_type": "markdown",
   "id": "9e8fce9d",
   "metadata": {},
   "source": [
    "Set Items\n",
    "\n",
    "Set items are unordered, unchangeable, and do not allow duplicate values.\n",
    "\n",
    "* Unordered\n",
    "\n",
    "Unordered means that the items in a set do not have a defined order.\n",
    "\n",
    "Set items can appear in a different order every time you use them, and cannot be referred to by index or key.\n",
    "\n",
    "* Unchangeable\n",
    "\n",
    "Set items are unchangeable, meaning that we cannot change the items after the set has been created."
   ]
  },
  {
   "cell_type": "markdown",
   "id": "86a65bdb",
   "metadata": {},
   "source": [
    "Once a set is created, you cannot change its items, but you can remove items and add new items."
   ]
  },
  {
   "cell_type": "markdown",
   "id": "fc25de37",
   "metadata": {},
   "source": [
    "* Duplicates Not Allowed\n",
    "\n",
    "Sets cannot have two items with the same value."
   ]
  },
  {
   "cell_type": "code",
   "execution_count": 7,
   "id": "3ce65c60",
   "metadata": {},
   "outputs": [
    {
     "data": {
      "text/plain": [
       "{'apple', 'mango', 'papaya'}"
      ]
     },
     "execution_count": 7,
     "metadata": {},
     "output_type": "execute_result"
    }
   ],
   "source": [
    "fruits={'apple','mango','papaya','mango'}\n",
    "fruits"
   ]
  },
  {
   "cell_type": "code",
   "execution_count": 10,
   "id": "c5fb464e",
   "metadata": {},
   "outputs": [
    {
     "name": "stdout",
     "output_type": "stream",
     "text": [
      "{'cherry', 'banana', 'apple'}\n"
     ]
    }
   ],
   "source": [
    "set = {\"apple\", \"banana\", \"cherry\", \"apple\"}\n",
    "\n",
    "print(set)"
   ]
  },
  {
   "cell_type": "code",
   "execution_count": 11,
   "id": "df850aee",
   "metadata": {},
   "outputs": [
    {
     "data": {
      "text/plain": [
       "3"
      ]
     },
     "execution_count": 11,
     "metadata": {},
     "output_type": "execute_result"
    }
   ],
   "source": [
    "len(set)"
   ]
  },
  {
   "cell_type": "code",
   "execution_count": 15,
   "id": "6a44bc4a",
   "metadata": {},
   "outputs": [],
   "source": [
    "set1={\"apple\", \"banana\", \"cherry\", \"apple\"}\n",
    "set2={1,2,3,4,5}\n",
    "set3={True,False,True}"
   ]
  },
  {
   "cell_type": "code",
   "execution_count": 18,
   "id": "3b057400",
   "metadata": {},
   "outputs": [
    {
     "name": "stdout",
     "output_type": "stream",
     "text": [
      "{'cherry', 'banana', 'apple'}\n",
      "{1, 2, 3, 4, 5}\n",
      "{False, True}\n"
     ]
    }
   ],
   "source": [
    "print(set1)\n",
    "print(set2)\n",
    "print(set3)"
   ]
  },
  {
   "cell_type": "code",
   "execution_count": 21,
   "id": "d465637c",
   "metadata": {},
   "outputs": [
    {
     "ename": "TypeError",
     "evalue": "'set' object is not callable",
     "output_type": "error",
     "traceback": [
      "\u001b[1;31m---------------------------------------------------------------------------\u001b[0m",
      "\u001b[1;31mTypeError\u001b[0m                                 Traceback (most recent call last)",
      "\u001b[1;32mC:\\Users\\ATHANM~1\\AppData\\Local\\Temp/ipykernel_9112/3485908149.py\u001b[0m in \u001b[0;36m<module>\u001b[1;34m\u001b[0m\n\u001b[1;32m----> 1\u001b[1;33m \u001b[0mset1\u001b[0m\u001b[1;33m=\u001b[0m\u001b[0mset\u001b[0m\u001b[1;33m(\u001b[0m\u001b[1;33m(\u001b[0m\u001b[1;34m\"GKVK\"\u001b[0m\u001b[1;33m,\u001b[0m\u001b[1;34m\"DAU\"\u001b[0m\u001b[1;33m)\u001b[0m\u001b[1;33m)\u001b[0m\u001b[1;33m\u001b[0m\u001b[1;33m\u001b[0m\u001b[0m\n\u001b[0m",
      "\u001b[1;31mTypeError\u001b[0m: 'set' object is not callable"
     ]
    }
   ],
   "source": [
    "set1=set((\"GKVK\",\"DAU\"))"
   ]
  },
  {
   "cell_type": "code",
   "execution_count": 23,
   "id": "706d13fa",
   "metadata": {},
   "outputs": [
    {
     "ename": "TypeError",
     "evalue": "'set' object is not callable",
     "output_type": "error",
     "traceback": [
      "\u001b[1;31m---------------------------------------------------------------------------\u001b[0m",
      "\u001b[1;31mTypeError\u001b[0m                                 Traceback (most recent call last)",
      "\u001b[1;32mC:\\Users\\ATHANM~1\\AppData\\Local\\Temp/ipykernel_9112/1876286936.py\u001b[0m in \u001b[0;36m<module>\u001b[1;34m\u001b[0m\n\u001b[1;32m----> 1\u001b[1;33m \u001b[0mthisset\u001b[0m \u001b[1;33m=\u001b[0m \u001b[0mset\u001b[0m\u001b[1;33m(\u001b[0m\u001b[1;33m(\u001b[0m\u001b[1;34m\"apple\"\u001b[0m\u001b[1;33m,\u001b[0m \u001b[1;34m\"banana\"\u001b[0m\u001b[1;33m,\u001b[0m \u001b[1;34m\"cherry\"\u001b[0m\u001b[1;33m)\u001b[0m\u001b[1;33m)\u001b[0m\u001b[1;33m\u001b[0m\u001b[1;33m\u001b[0m\u001b[0m\n\u001b[0m\u001b[0;32m      2\u001b[0m \u001b[0mprint\u001b[0m\u001b[1;33m(\u001b[0m\u001b[0mthisset\u001b[0m\u001b[1;33m)\u001b[0m\u001b[1;33m\u001b[0m\u001b[1;33m\u001b[0m\u001b[0m\n",
      "\u001b[1;31mTypeError\u001b[0m: 'set' object is not callable"
     ]
    }
   ],
   "source": [
    "thisset = set((\"apple\", \"banana\", \"cherry\"))\n",
    "print(thisset)"
   ]
  },
  {
   "cell_type": "markdown",
   "id": "51033157",
   "metadata": {},
   "source": [
    "## Access Items"
   ]
  },
  {
   "cell_type": "markdown",
   "id": "4e77ad8c",
   "metadata": {},
   "source": [
    "You cannot access items in a set by referring to an index or a key.\n",
    "\n",
    "But you can loop through the set items using a for loop, or ask if a specified value is present in a set, by using the in keyword."
   ]
  },
  {
   "cell_type": "code",
   "execution_count": 1,
   "id": "2830d3d7",
   "metadata": {},
   "outputs": [],
   "source": [
    "name={'GKVK','RAJ','ALLU','YASH'}"
   ]
  },
  {
   "cell_type": "code",
   "execution_count": 2,
   "id": "90f4a36f",
   "metadata": {},
   "outputs": [
    {
     "name": "stdout",
     "output_type": "stream",
     "text": [
      "GKVK\n",
      "RAJ\n",
      "YASH\n",
      "ALLU\n"
     ]
    }
   ],
   "source": [
    "for i in name:\n",
    "    print(i)"
   ]
  },
  {
   "cell_type": "code",
   "execution_count": 4,
   "id": "c21a335f",
   "metadata": {},
   "outputs": [
    {
     "name": "stdout",
     "output_type": "stream",
     "text": [
      "True\n"
     ]
    }
   ],
   "source": [
    "print('RAJ' in name)"
   ]
  },
  {
   "cell_type": "markdown",
   "id": "6f05308e",
   "metadata": {},
   "source": [
    "## Change Items"
   ]
  },
  {
   "cell_type": "markdown",
   "id": "a6e344ed",
   "metadata": {},
   "source": [
    "Once a set is created, you cannot change its items, but you can add new items."
   ]
  },
  {
   "cell_type": "markdown",
   "id": "59a7e52b",
   "metadata": {},
   "source": [
    "## Add Items"
   ]
  },
  {
   "cell_type": "markdown",
   "id": "920e317d",
   "metadata": {},
   "source": [
    "Once a set is created, you cannot change its items, but you can add new items."
   ]
  },
  {
   "cell_type": "markdown",
   "id": "98da8354",
   "metadata": {},
   "source": [
    "To add one item to a set use the add() method."
   ]
  },
  {
   "cell_type": "code",
   "execution_count": 5,
   "id": "afd152ac",
   "metadata": {},
   "outputs": [],
   "source": [
    "Heroes={'D boss','YASH','PUNEETH'}"
   ]
  },
  {
   "cell_type": "code",
   "execution_count": 6,
   "id": "2ff228c1",
   "metadata": {},
   "outputs": [],
   "source": [
    "Heroes.add('MANJU')"
   ]
  },
  {
   "cell_type": "code",
   "execution_count": 7,
   "id": "e8f25368",
   "metadata": {},
   "outputs": [
    {
     "data": {
      "text/plain": [
       "{'D boss', 'MANJU', 'PUNEETH', 'YASH'}"
      ]
     },
     "execution_count": 7,
     "metadata": {},
     "output_type": "execute_result"
    }
   ],
   "source": [
    "Heroes"
   ]
  },
  {
   "cell_type": "markdown",
   "id": "41071f5b",
   "metadata": {},
   "source": [
    "## Add Sets"
   ]
  },
  {
   "cell_type": "code",
   "execution_count": 8,
   "id": "fb3e9ea5",
   "metadata": {},
   "outputs": [],
   "source": [
    "name={'raj','taj','sam','cam'}"
   ]
  },
  {
   "cell_type": "code",
   "execution_count": 9,
   "id": "b7a8bbcb",
   "metadata": {},
   "outputs": [],
   "source": [
    "age={24,23,35,36}"
   ]
  },
  {
   "cell_type": "code",
   "execution_count": 15,
   "id": "0fd97d1e",
   "metadata": {},
   "outputs": [],
   "source": [
    "name.update(age)"
   ]
  },
  {
   "cell_type": "code",
   "execution_count": 35,
   "id": "b8c21dd4",
   "metadata": {},
   "outputs": [
    {
     "data": {
      "text/plain": [
       "set()"
      ]
     },
     "execution_count": 35,
     "metadata": {},
     "output_type": "execute_result"
    }
   ],
   "source": [
    "name"
   ]
  },
  {
   "cell_type": "markdown",
   "id": "8f6751bd",
   "metadata": {},
   "source": [
    "## Remove Item"
   ]
  },
  {
   "cell_type": "markdown",
   "id": "f88dde56",
   "metadata": {},
   "source": [
    "remove()\n",
    "\n",
    "discard()\n",
    "\n",
    "pop()\n",
    "\n",
    "clear()\n",
    "\n",
    "del()"
   ]
  },
  {
   "cell_type": "code",
   "execution_count": 19,
   "id": "1c05c463",
   "metadata": {},
   "outputs": [
    {
     "data": {
      "text/plain": [
       "{'D boss', 'MANJU', 'PUNEETH', 'YASH'}"
      ]
     },
     "execution_count": 19,
     "metadata": {},
     "output_type": "execute_result"
    }
   ],
   "source": [
    "Heroes"
   ]
  },
  {
   "cell_type": "code",
   "execution_count": 21,
   "id": "bb6d4ab1",
   "metadata": {},
   "outputs": [],
   "source": [
    "Heroes.remove('MANJU')"
   ]
  },
  {
   "cell_type": "code",
   "execution_count": 22,
   "id": "e3ac8261",
   "metadata": {},
   "outputs": [
    {
     "data": {
      "text/plain": [
       "{'D boss', 'PUNEETH', 'YASH'}"
      ]
     },
     "execution_count": 22,
     "metadata": {},
     "output_type": "execute_result"
    }
   ],
   "source": [
    "Heroes"
   ]
  },
  {
   "cell_type": "code",
   "execution_count": 23,
   "id": "cef9840e",
   "metadata": {},
   "outputs": [
    {
     "ename": "KeyError",
     "evalue": "'RAJ'",
     "output_type": "error",
     "traceback": [
      "\u001b[1;31m---------------------------------------------------------------------------\u001b[0m",
      "\u001b[1;31mKeyError\u001b[0m                                  Traceback (most recent call last)",
      "\u001b[1;32mC:\\Users\\ATHANM~1\\AppData\\Local\\Temp/ipykernel_9508/2539956188.py\u001b[0m in \u001b[0;36m<module>\u001b[1;34m\u001b[0m\n\u001b[1;32m----> 1\u001b[1;33m \u001b[0mHeroes\u001b[0m\u001b[1;33m.\u001b[0m\u001b[0mremove\u001b[0m\u001b[1;33m(\u001b[0m\u001b[1;34m'RAJ'\u001b[0m\u001b[1;33m)\u001b[0m\u001b[1;33m\u001b[0m\u001b[1;33m\u001b[0m\u001b[0m\n\u001b[0m",
      "\u001b[1;31mKeyError\u001b[0m: 'RAJ'"
     ]
    }
   ],
   "source": [
    "Heroes.remove('RAJ')"
   ]
  },
  {
   "cell_type": "code",
   "execution_count": 24,
   "id": "62ff335a",
   "metadata": {},
   "outputs": [],
   "source": [
    "Heroes.discard('RAJ')"
   ]
  },
  {
   "cell_type": "code",
   "execution_count": 26,
   "id": "1ff29f5c",
   "metadata": {},
   "outputs": [
    {
     "data": {
      "text/plain": [
       "{'D boss', 'PUNEETH', 'YASH'}"
      ]
     },
     "execution_count": 26,
     "metadata": {},
     "output_type": "execute_result"
    }
   ],
   "source": [
    "Heroes"
   ]
  },
  {
   "cell_type": "code",
   "execution_count": 27,
   "id": "23a69be2",
   "metadata": {},
   "outputs": [],
   "source": [
    "Heroes.discard('YASH')"
   ]
  },
  {
   "cell_type": "code",
   "execution_count": 28,
   "id": "44328a5f",
   "metadata": {},
   "outputs": [
    {
     "data": {
      "text/plain": [
       "{'D boss', 'PUNEETH'}"
      ]
     },
     "execution_count": 28,
     "metadata": {},
     "output_type": "execute_result"
    }
   ],
   "source": [
    "Heroes"
   ]
  },
  {
   "cell_type": "code",
   "execution_count": 30,
   "id": "073ab2df",
   "metadata": {},
   "outputs": [
    {
     "data": {
      "text/plain": [
       "{23, 24, 35, 36, 'a', 'cam', 'e', 'g', 'raj', 'sam', 'taj'}"
      ]
     },
     "execution_count": 30,
     "metadata": {},
     "output_type": "execute_result"
    }
   ],
   "source": [
    "name"
   ]
  },
  {
   "cell_type": "code",
   "execution_count": 31,
   "id": "14071d6e",
   "metadata": {},
   "outputs": [
    {
     "data": {
      "text/plain": [
       "'sam'"
      ]
     },
     "execution_count": 31,
     "metadata": {},
     "output_type": "execute_result"
    }
   ],
   "source": [
    "name.pop()"
   ]
  },
  {
   "cell_type": "code",
   "execution_count": 32,
   "id": "1dd33b77",
   "metadata": {},
   "outputs": [],
   "source": [
    "name.clear()"
   ]
  },
  {
   "cell_type": "code",
   "execution_count": 33,
   "id": "2f4968c6",
   "metadata": {},
   "outputs": [
    {
     "data": {
      "text/plain": [
       "set()"
      ]
     },
     "execution_count": 33,
     "metadata": {},
     "output_type": "execute_result"
    }
   ],
   "source": [
    "name"
   ]
  },
  {
   "cell_type": "markdown",
   "id": "4e4446dc",
   "metadata": {},
   "source": [
    "The clear() method empties the set:"
   ]
  },
  {
   "cell_type": "markdown",
   "id": "e342700d",
   "metadata": {},
   "source": [
    "The del keyword will delete the set completely:"
   ]
  },
  {
   "cell_type": "code",
   "execution_count": 34,
   "id": "6bc50d79",
   "metadata": {},
   "outputs": [
    {
     "ename": "SyntaxError",
     "evalue": "invalid syntax (Temp/ipykernel_9508/1549649220.py, line 1)",
     "output_type": "error",
     "traceback": [
      "\u001b[1;36m  File \u001b[1;32m\"C:\\Users\\ATHANM~1\\AppData\\Local\\Temp/ipykernel_9508/1549649220.py\"\u001b[1;36m, line \u001b[1;32m1\u001b[0m\n\u001b[1;33m    name.del()\u001b[0m\n\u001b[1;37m         ^\u001b[0m\n\u001b[1;31mSyntaxError\u001b[0m\u001b[1;31m:\u001b[0m invalid syntax\n"
     ]
    }
   ],
   "source": [
    "name"
   ]
  },
  {
   "cell_type": "code",
   "execution_count": 44,
   "id": "75d0dcd9",
   "metadata": {},
   "outputs": [],
   "source": [
    "fruits={'Mango','Apple','orange'}"
   ]
  },
  {
   "cell_type": "code",
   "execution_count": 37,
   "id": "d441b22b",
   "metadata": {},
   "outputs": [],
   "source": [
    "fruits.clear()"
   ]
  },
  {
   "cell_type": "code",
   "execution_count": 38,
   "id": "83a49578",
   "metadata": {},
   "outputs": [
    {
     "data": {
      "text/plain": [
       "set()"
      ]
     },
     "execution_count": 38,
     "metadata": {},
     "output_type": "execute_result"
    }
   ],
   "source": [
    "fruits"
   ]
  },
  {
   "cell_type": "code",
   "execution_count": 40,
   "id": "15367052",
   "metadata": {},
   "outputs": [
    {
     "data": {
      "text/plain": [
       "{'Apple', 'Mango', 'orange'}"
      ]
     },
     "execution_count": 40,
     "metadata": {},
     "output_type": "execute_result"
    }
   ],
   "source": [
    "fruits"
   ]
  },
  {
   "cell_type": "code",
   "execution_count": 41,
   "id": "efe93093",
   "metadata": {},
   "outputs": [],
   "source": [
    "del fruits"
   ]
  },
  {
   "cell_type": "code",
   "execution_count": 42,
   "id": "cc6e0615",
   "metadata": {},
   "outputs": [
    {
     "ename": "NameError",
     "evalue": "name 'fruits' is not defined",
     "output_type": "error",
     "traceback": [
      "\u001b[1;31m---------------------------------------------------------------------------\u001b[0m",
      "\u001b[1;31mNameError\u001b[0m                                 Traceback (most recent call last)",
      "\u001b[1;32mC:\\Users\\ATHANM~1\\AppData\\Local\\Temp/ipykernel_9508/925828544.py\u001b[0m in \u001b[0;36m<module>\u001b[1;34m\u001b[0m\n\u001b[1;32m----> 1\u001b[1;33m \u001b[0mfruits\u001b[0m\u001b[1;33m\u001b[0m\u001b[1;33m\u001b[0m\u001b[0m\n\u001b[0m",
      "\u001b[1;31mNameError\u001b[0m: name 'fruits' is not defined"
     ]
    }
   ],
   "source": [
    "fruits"
   ]
  },
  {
   "cell_type": "markdown",
   "id": "cd8763ad",
   "metadata": {},
   "source": [
    "# Join Sets\n"
   ]
  },
  {
   "cell_type": "markdown",
   "id": "718b9a18",
   "metadata": {},
   "source": [
    "Join Two Sets\n",
    "\n",
    "There are several ways to join two or more sets in Python.\n",
    "\n",
    "You can use the union() method that returns a new set containing all items from both sets, or the update() method that inserts all the items from one set into another:"
   ]
  },
  {
   "cell_type": "markdown",
   "id": "90c7a0cb",
   "metadata": {},
   "source": [
    "The intersection_update() method will keep only the items that are present in both sets."
   ]
  },
  {
   "cell_type": "markdown",
   "id": "8463e004",
   "metadata": {},
   "source": [
    "## Keep ONLY the Duplicates\n"
   ]
  },
  {
   "cell_type": "markdown",
   "id": "6420179d",
   "metadata": {},
   "source": [
    "The intersection_update() method will keep only the items that are present in both sets."
   ]
  },
  {
   "cell_type": "code",
   "execution_count": 45,
   "id": "d278abfe",
   "metadata": {},
   "outputs": [
    {
     "data": {
      "text/plain": [
       "{'Apple', 'Mango', 'orange'}"
      ]
     },
     "execution_count": 45,
     "metadata": {},
     "output_type": "execute_result"
    }
   ],
   "source": [
    "fruits"
   ]
  },
  {
   "cell_type": "code",
   "execution_count": 46,
   "id": "8ecd47e5",
   "metadata": {},
   "outputs": [],
   "source": [
    "compny={'google','Apple'}"
   ]
  },
  {
   "cell_type": "code",
   "execution_count": 47,
   "id": "5f5c26e9",
   "metadata": {},
   "outputs": [],
   "source": [
    "fruits.intersection_update(compny)"
   ]
  },
  {
   "cell_type": "code",
   "execution_count": 48,
   "id": "c8e51d32",
   "metadata": {},
   "outputs": [
    {
     "data": {
      "text/plain": [
       "{'Apple'}"
      ]
     },
     "execution_count": 48,
     "metadata": {},
     "output_type": "execute_result"
    }
   ],
   "source": [
    "fruits"
   ]
  },
  {
   "cell_type": "markdown",
   "id": "8345903d",
   "metadata": {},
   "source": [
    "The intersection() method will return a new set, that only contains the items that are present in both sets."
   ]
  },
  {
   "cell_type": "markdown",
   "id": "f8f65334",
   "metadata": {},
   "source": [
    "## Keep All, But NOT the Duplicates"
   ]
  },
  {
   "cell_type": "markdown",
   "id": "cd239693",
   "metadata": {},
   "source": [
    "The symmetric_difference_update() method will keep only the elements that are NOT present in both sets."
   ]
  },
  {
   "cell_type": "code",
   "execution_count": 51,
   "id": "65532858",
   "metadata": {},
   "outputs": [
    {
     "name": "stdout",
     "output_type": "stream",
     "text": [
      "{'cherry', 'banana', 'microsoft', 'google'}\n"
     ]
    }
   ],
   "source": [
    "x = {\"apple\", \"banana\", \"cherry\"}\n",
    "y = {\"google\", \"microsoft\", \"apple\"}\n",
    "\n",
    "x.symmetric_difference_update(y)\n",
    "\n",
    "print(x)"
   ]
  },
  {
   "cell_type": "markdown",
   "id": "cb7407b2",
   "metadata": {},
   "source": [
    "The symmetric_difference() method will return a new set, that contains only the elements that are NOT present in both sets."
   ]
  },
  {
   "cell_type": "code",
   "execution_count": 52,
   "id": "04fae4cb",
   "metadata": {},
   "outputs": [
    {
     "name": "stdout",
     "output_type": "stream",
     "text": [
      "{'cherry', 'banana', 'microsoft', 'google'}\n"
     ]
    }
   ],
   "source": [
    "x = {\"apple\", \"banana\", \"cherry\"}\n",
    "y = {\"google\", \"microsoft\", \"apple\"}\n",
    "\n",
    "z = x.symmetric_difference(y)\n",
    "\n",
    "print(z)"
   ]
  },
  {
   "cell_type": "code",
   "execution_count": null,
   "id": "4830c5ae",
   "metadata": {},
   "outputs": [],
   "source": []
  }
 ],
 "metadata": {
  "kernelspec": {
   "display_name": "Python 3 (ipykernel)",
   "language": "python",
   "name": "python3"
  },
  "language_info": {
   "codemirror_mode": {
    "name": "ipython",
    "version": 3
   },
   "file_extension": ".py",
   "mimetype": "text/x-python",
   "name": "python",
   "nbconvert_exporter": "python",
   "pygments_lexer": "ipython3",
   "version": "3.9.7"
  }
 },
 "nbformat": 4,
 "nbformat_minor": 5
}
