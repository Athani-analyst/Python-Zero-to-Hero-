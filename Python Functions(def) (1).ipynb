{
 "cells": [
  {
   "cell_type": "markdown",
   "id": "dfb7b9f3",
   "metadata": {},
   "source": [
    "Here is a link for more codes: https://github.com/Athani-analyst\n",
    "\n",
    "Happy coding!"
   ]
  },
  {
   "cell_type": "markdown",
   "id": "be1e29a2",
   "metadata": {},
   "source": [
    "# Python Functions"
   ]
  },
  {
   "cell_type": "markdown",
   "id": "82322370",
   "metadata": {},
   "source": [
    "A function is a block of code which only runs when it is called.\n",
    "\n",
    "You can pass data, known as parameters, into a function.\n",
    "\n",
    "A function can return data as a result.\n",
    "\n",
    "A function is a group of related statements that performs a specific task."
   ]
  },
  {
   "cell_type": "markdown",
   "id": "6342d465",
   "metadata": {},
   "source": [
    "#### Types of functions\n",
    "There are two types of functions:\n",
    "\n",
    "**Built-in functions** - Functions that are built into Python.\n",
    "\n",
    "**User-defined functions** - Functions defined by the users themselves."
   ]
  },
  {
   "cell_type": "markdown",
   "id": "89d7cebb",
   "metadata": {},
   "source": [
    "Some built-in functions:\n",
    "\n",
    "Function\tDescription\n",
    "- float()\tconverts to decimal number and returns it\n",
    "- int()\tconverts to integer and returns it\n",
    "- input()\tfunction to take input from the user"
   ]
  },
  {
   "cell_type": "code",
   "execution_count": 2,
   "id": "12bb9611",
   "metadata": {},
   "outputs": [],
   "source": [
    "def greet():\n",
    "    print(\"Hello\")\n",
    "    print(\"How do you do?\")"
   ]
  },
  {
   "cell_type": "markdown",
   "id": "45582293",
   "metadata": {},
   "source": [
    "Here, we have defined a function named greet.\n",
    "\n",
    "To create a function, we use the **def** keyword followed by the function name, parenthesis (), and a colon :.\n",
    "\n",
    "The body of the function is specified using indentation."
   ]
  },
  {
   "cell_type": "markdown",
   "id": "56c01105",
   "metadata": {},
   "source": [
    "When we run the program, we don't see any output.\n",
    "\n",
    "It is because defining a function won't do anything. To bring the function into action, we need to call it."
   ]
  },
  {
   "cell_type": "code",
   "execution_count": 6,
   "id": "54e6bd15",
   "metadata": {},
   "outputs": [
    {
     "name": "stdout",
     "output_type": "stream",
     "text": [
      "Hello\n",
      "How do you do?\n"
     ]
    }
   ],
   "source": [
    "def greet():\n",
    "    print(\"Hello\")\n",
    "    print(\"How do you do?\")\n",
    "\n",
    "greet()"
   ]
  },
  {
   "cell_type": "markdown",
   "id": "1b9a29ba",
   "metadata": {},
   "source": [
    "One advantage of defining a function is that we can call it any number of times."
   ]
  },
  {
   "cell_type": "code",
   "execution_count": 8,
   "id": "d53f2faa",
   "metadata": {},
   "outputs": [
    {
     "name": "stdout",
     "output_type": "stream",
     "text": [
      "Hello\n",
      "How do you do?\n",
      "Hello\n",
      "How do you do?\n",
      "Hello\n",
      "How do you do?\n"
     ]
    }
   ],
   "source": [
    "greet()\n",
    "greet()\n",
    "greet()"
   ]
  },
  {
   "cell_type": "code",
   "execution_count": 9,
   "id": "8d33f983",
   "metadata": {},
   "outputs": [
    {
     "ename": "SyntaxError",
     "evalue": "invalid syntax (228980620.py, line 1)",
     "output_type": "error",
     "traceback": [
      "\u001b[1;36m  File \u001b[1;32m\"C:\\Users\\Manjunath\\AppData\\Local\\Temp\\ipykernel_2224\\228980620.py\"\u001b[1;36m, line \u001b[1;32m1\u001b[0m\n\u001b[1;33m    Also, we need to define a function first before we can call it.\u001b[0m\n\u001b[1;37m                                                                   ^\u001b[0m\n\u001b[1;31mSyntaxError\u001b[0m\u001b[1;31m:\u001b[0m invalid syntax\n"
     ]
    }
   ],
   "source": [
    "Also, we need to define a function first before we can call it.\n",
    "\n",
    "The following code gives an error:\n",
    "    \n",
    "# function call\n",
    "greet()\n",
    "\n",
    "# function definition\n",
    "def greet():\n",
    "    print(\"Hello\")\n",
    "    print(\"How do you do?\")"
   ]
  },
  {
   "cell_type": "markdown",
   "id": "57e6cf42",
   "metadata": {},
   "source": [
    "## Arguments"
   ]
  },
  {
   "cell_type": "markdown",
   "id": "39e8748a",
   "metadata": {},
   "source": [
    "Information can be passed into functions as arguments.\n",
    "\n",
    "Arguments are specified after the function name, inside the parentheses. You can add as many arguments as you want, just separate them with a comma.\n",
    "\n",
    "The following example has a function with one argument (fname). When the function is called, we pass along a first name, which is used inside the function to print the full name:"
   ]
  },
  {
   "cell_type": "code",
   "execution_count": 12,
   "id": "0474d5af",
   "metadata": {},
   "outputs": [
    {
     "name": "stdout",
     "output_type": "stream",
     "text": [
      "Manjunath@gmail.com\n",
      "Ramesh@gmail.com\n",
      "suresh@gmail.com\n"
     ]
    }
   ],
   "source": [
    "def my_function(fname):\n",
    "  print(fname + \"@gmail.com\")\n",
    "\n",
    "my_function(\"Manjunath\")\n",
    "my_function(\"Ramesh\")\n",
    "my_function(\"suresh\")"
   ]
  },
  {
   "cell_type": "markdown",
   "id": "09ea3782",
   "metadata": {},
   "source": [
    "Note: Arguments are often shortened to args in Python documentations."
   ]
  },
  {
   "cell_type": "markdown",
   "id": "281b2fca",
   "metadata": {},
   "source": [
    "## Parameters or Arguments?"
   ]
  },
  {
   "cell_type": "code",
   "execution_count": null,
   "id": "fddba01c",
   "metadata": {},
   "outputs": [],
   "source": [
    "The terms parameter and argument can be used for the same thing: information that are passed into a function.\n",
    "    \n",
    "From a function's perspective:\n",
    "\n",
    "A parameter is the variable listed inside the parentheses in the function definition.\n",
    "\n",
    "An argument is the value that is sent to the function when it is called."
   ]
  },
  {
   "cell_type": "markdown",
   "id": "1ab92c69",
   "metadata": {},
   "source": [
    "## Number of Arguments"
   ]
  },
  {
   "cell_type": "markdown",
   "id": "dbe5c122",
   "metadata": {},
   "source": [
    "By default, a function must be called with the correct number of arguments. Meaning that if your function expects 2 arguments, you have to call the function with 2 arguments, not more, and not less."
   ]
  },
  {
   "cell_type": "code",
   "execution_count": 14,
   "id": "9e031cea",
   "metadata": {},
   "outputs": [],
   "source": [
    "def add(n1,n2):\n",
    "    return n1+n2"
   ]
  },
  {
   "cell_type": "markdown",
   "id": "3c36336c",
   "metadata": {},
   "source": [
    "Here, we have called the add_numbers() function with two arguments.\n",
    "\n",
    "These arguments we passed to the function are called positional arguments.\n",
    "\n",
    "It is because the first argument 5.4 is assigned to the first parameter n1 and the second argument 6.7 is assigned to the second parameter n2. These arguments are passed based on their position.\n",
    "\n",
    "If we remove the second argument, it will lead to an error message:"
   ]
  },
  {
   "cell_type": "code",
   "execution_count": 15,
   "id": "21c3a174",
   "metadata": {
    "scrolled": false
   },
   "outputs": [
    {
     "data": {
      "text/plain": [
       "24"
      ]
     },
     "execution_count": 15,
     "metadata": {},
     "output_type": "execute_result"
    }
   ],
   "source": [
    "add(12,12)"
   ]
  },
  {
   "cell_type": "markdown",
   "id": "36b900d9",
   "metadata": {},
   "source": [
    "If you try to call the function with 1 or 3 arguments, you will get an error:"
   ]
  },
  {
   "cell_type": "code",
   "execution_count": 16,
   "id": "4fa5ebeb",
   "metadata": {
    "scrolled": false
   },
   "outputs": [
    {
     "ename": "TypeError",
     "evalue": "add() missing 1 required positional argument: 'n2'",
     "output_type": "error",
     "traceback": [
      "\u001b[1;31m---------------------------------------------------------------------------\u001b[0m",
      "\u001b[1;31mTypeError\u001b[0m                                 Traceback (most recent call last)",
      "\u001b[1;32m~\\AppData\\Local\\Temp\\ipykernel_2224\\1920135268.py\u001b[0m in \u001b[0;36m<module>\u001b[1;34m\u001b[0m\n\u001b[1;32m----> 1\u001b[1;33m \u001b[0madd\u001b[0m\u001b[1;33m(\u001b[0m\u001b[1;36m12\u001b[0m\u001b[1;33m)\u001b[0m\u001b[1;33m\u001b[0m\u001b[1;33m\u001b[0m\u001b[0m\n\u001b[0m",
      "\u001b[1;31mTypeError\u001b[0m: add() missing 1 required positional argument: 'n2'"
     ]
    }
   ],
   "source": [
    "add(12)"
   ]
  },
  {
   "cell_type": "code",
   "execution_count": 17,
   "id": "54b76e27",
   "metadata": {},
   "outputs": [
    {
     "ename": "TypeError",
     "evalue": "add() takes 2 positional arguments but 3 were given",
     "output_type": "error",
     "traceback": [
      "\u001b[1;31m---------------------------------------------------------------------------\u001b[0m",
      "\u001b[1;31mTypeError\u001b[0m                                 Traceback (most recent call last)",
      "\u001b[1;32m~\\AppData\\Local\\Temp\\ipykernel_2224\\1525041734.py\u001b[0m in \u001b[0;36m<module>\u001b[1;34m\u001b[0m\n\u001b[1;32m----> 1\u001b[1;33m \u001b[0madd\u001b[0m\u001b[1;33m(\u001b[0m\u001b[1;36m12\u001b[0m\u001b[1;33m,\u001b[0m\u001b[1;36m13\u001b[0m\u001b[1;33m,\u001b[0m\u001b[1;36m24\u001b[0m\u001b[1;33m)\u001b[0m\u001b[1;33m\u001b[0m\u001b[1;33m\u001b[0m\u001b[0m\n\u001b[0m",
      "\u001b[1;31mTypeError\u001b[0m: add() takes 2 positional arguments but 3 were given"
     ]
    }
   ],
   "source": [
    "add(12,13,24)"
   ]
  },
  {
   "cell_type": "markdown",
   "id": "35eb0eb5",
   "metadata": {},
   "source": [
    "# Arbitrary Arguments, *args"
   ]
  },
  {
   "cell_type": "markdown",
   "id": "20e9ceb6",
   "metadata": {},
   "source": [
    "If you do not know how many arguments that will be passed into your function, add a * before the parameter name in the function definition.\n",
    "\n",
    "This way the function will receive a tuple of arguments, and can access the items accordingly:"
   ]
  },
  {
   "cell_type": "code",
   "execution_count": 18,
   "id": "8f18fe03",
   "metadata": {},
   "outputs": [],
   "source": [
    "def add_all(*arrg):\n",
    "    return sum(arrg)"
   ]
  },
  {
   "cell_type": "code",
   "execution_count": 21,
   "id": "451eafdb",
   "metadata": {},
   "outputs": [
    {
     "data": {
      "text/plain": [
       "354696"
      ]
     },
     "execution_count": 21,
     "metadata": {},
     "output_type": "execute_result"
    }
   ],
   "source": [
    "add_all(12,23,23,354638)"
   ]
  },
  {
   "cell_type": "markdown",
   "id": "35a236b0",
   "metadata": {},
   "source": [
    "# Positional Arguments"
   ]
  },
  {
   "cell_type": "markdown",
   "id": "1e2111b8",
   "metadata": {},
   "source": [
    "Positional arguments are the arguments that need to be passed to the function call in a proper order.\n",
    "\n",
    "For example,"
   ]
  },
  {
   "cell_type": "code",
   "execution_count": 31,
   "id": "5f714f82",
   "metadata": {},
   "outputs": [
    {
     "name": "stdout",
     "output_type": "stream",
     "text": [
      "12.100000000000001\n"
     ]
    }
   ],
   "source": [
    "def add_numbers(n1, n2):\n",
    "    result = n1 + n2\n",
    "    return result\n",
    "\n",
    "result = add_numbers(5.4, 6.7)\n",
    "print(result)"
   ]
  },
  {
   "cell_type": "markdown",
   "id": "06321639",
   "metadata": {},
   "source": [
    "Here, we have called the add_numbers() function with two arguments.\n",
    "\n",
    "These arguments we passed to the function are called positional arguments.\n",
    "\n",
    "It is because the first argument 5.4 is assigned to the first parameter n1 and the second argument 6.7 is assigned to the second parameter n2. These arguments are passed based on their position."
   ]
  },
  {
   "cell_type": "markdown",
   "id": "a7d10e67",
   "metadata": {},
   "source": [
    "# Default Arguments"
   ]
  },
  {
   "cell_type": "markdown",
   "id": "bb5983e3",
   "metadata": {},
   "source": [
    "Function arguments can have default values in Python.\n",
    "\n",
    "We can provide a default value to an argument by using the assignment operator =.\n",
    "\n",
    "For example,\n",
    "\n"
   ]
  },
  {
   "cell_type": "code",
   "execution_count": 29,
   "id": "58920f3d",
   "metadata": {},
   "outputs": [
    {
     "name": "stdout",
     "output_type": "stream",
     "text": [
      "1005.4\n"
     ]
    }
   ],
   "source": [
    "def add_numbers(n1 = 100, n2 = 1000):\n",
    "    result = n1 + n2\n",
    "    return result\n",
    "\n",
    "result = add_numbers(5.4)\n",
    "print(result)"
   ]
  },
  {
   "cell_type": "markdown",
   "id": "0aec6078",
   "metadata": {},
   "source": [
    "Here, n1 takes the value passed in function call.\n",
    "\n",
    "Since there is no second argument in the function call, n2 takes the default value of 1000.\n",
    "\n",
    "If we run the function without any arguments:"
   ]
  },
  {
   "cell_type": "code",
   "execution_count": null,
   "id": "0039c1a3",
   "metadata": {},
   "outputs": [],
   "source": []
  },
  {
   "cell_type": "markdown",
   "id": "27d8388a",
   "metadata": {},
   "source": [
    "# Keyword Arguments\n",
    "You can also send arguments with the key = value syntax.\n",
    "\n",
    "This way the order of the arguments does not matter."
   ]
  },
  {
   "cell_type": "code",
   "execution_count": 23,
   "id": "dba8b0a9",
   "metadata": {},
   "outputs": [
    {
     "name": "stdout",
     "output_type": "stream",
     "text": [
      "The youngest child is Linus\n"
     ]
    }
   ],
   "source": [
    "def my_function(child3, child2, child1):\n",
    "    print(\"The youngest child is \" + child3)\n",
    "\n",
    "my_function(child1 = \"Emil\", child2 = \"Tobias\", child3 = \"Linus\")"
   ]
  },
  {
   "cell_type": "markdown",
   "id": "f7270d74",
   "metadata": {},
   "source": [
    "##### Example\n",
    "\n",
    "Grading Student Based on Marks Obtained by Making Functions\n",
    "\n",
    "Suppose you just attended a University examination. The marks you obtained in various subjects are stored in a list like this:\n",
    "\n",
    "marks = [55, 64, 75, 80, 65]\n",
    "You want to find the average marks you obtained in the exam.\n",
    "\n",
    "Based on the average marks you want to find your grade as:\n",
    "\n",
    "- You will get Grade A if the average marks is equal to or above 80\n",
    "- You will get Grade B if the average marks is equal to or above 60 and less than 80\n",
    "- You will get Grade C if the average marks is equal to or above 50 and less than 60\n",
    "- And if the average marks is less than 50, you will get Grade F"
   ]
  },
  {
   "cell_type": "code",
   "execution_count": 25,
   "id": "e3ba7070",
   "metadata": {},
   "outputs": [
    {
     "name": "stdout",
     "output_type": "stream",
     "text": [
      "Your average marks is 67.8\n",
      "Your grade is B\n"
     ]
    }
   ],
   "source": [
    "# find the average marks and return it\n",
    "def find_average_marks(marks):\n",
    "    sum_of_marks = sum(marks)\n",
    "    number_of_subjects = len(marks)\n",
    "    \n",
    "    average_marks = sum_of_marks/number_of_subjects\n",
    "    \n",
    "    return average_marks\n",
    "\n",
    "# compute grade and return it\n",
    "def compute_grade(average_marks):\n",
    "    if average_marks >= 80.0:\n",
    "        grade = 'A'\n",
    "    elif average_marks >= 60:\n",
    "        grade = 'B'\n",
    "    elif average_marks >= 50:\n",
    "        grade = 'C'\n",
    "    else:\n",
    "        grade = 'F'\n",
    "    \n",
    "    return grade\n",
    "\n",
    "marks = [55, 64, 75, 80, 65]\n",
    "average_marks = find_average_marks(marks)\n",
    "grade =compute_grade(average_marks)\n",
    "\n",
    "print(\"Your average marks is\", average_marks)\n",
    "print(\"Your grade is\", grade)"
   ]
  },
  {
   "cell_type": "markdown",
   "id": "d5473d62",
   "metadata": {},
   "source": [
    "# Programming Task"
   ]
  },
  {
   "cell_type": "markdown",
   "id": "62bbb074",
   "metadata": {},
   "source": [
    "Can you create a program to multiply two numbers?\n",
    "\n",
    "For this,multiply_numbers(). These functions should compute the result and return them to the function call and should print from outside the function."
   ]
  }
 ],
 "metadata": {
  "kernelspec": {
   "display_name": "Python 3 (ipykernel)",
   "language": "python",
   "name": "python3"
  },
  "language_info": {
   "codemirror_mode": {
    "name": "ipython",
    "version": 3
   },
   "file_extension": ".py",
   "mimetype": "text/x-python",
   "name": "python",
   "nbconvert_exporter": "python",
   "pygments_lexer": "ipython3",
   "version": "3.9.13"
  }
 },
 "nbformat": 4,
 "nbformat_minor": 5
}
