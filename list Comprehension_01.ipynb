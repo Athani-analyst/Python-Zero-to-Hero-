{
 "cells": [
  {
   "cell_type": "markdown",
   "id": "4622737b",
   "metadata": {},
   "source": [
    "#                                                 Welcome to My Jupyter\n",
    "                                                                                                             Athani Analyst"
   ]
  },
  {
   "cell_type": "markdown",
   "id": "a73fca57",
   "metadata": {},
   "source": [
    "# list Comprehension\n",
    "\n",
    "Syntax of List Comprehension\n",
    "[expression for item in list]"
   ]
  },
  {
   "cell_type": "markdown",
   "id": "ba5719ee",
   "metadata": {},
   "source": [
    "List comprehension is an elegant way to define and create lists based on existing lists.\n",
    "\n",
    "List comprehension is generally more compact and faster than normal functions and loops for creating list.\n",
    "\n",
    "However, we should avoid writing very long list comprehensions in one line to ensure that code is user-friendly.\n",
    "\n",
    "Remember, every list comprehension can be rewritten in for loop, but every for loop can’t be rewritten in the form of list comprehension."
   ]
  },
  {
   "cell_type": "markdown",
   "id": "5164834f",
   "metadata": {},
   "source": [
    "## List Comprehension vs For Loop in Python\n",
    "Suppose, we want to separate the letters of the word human and add the letters as items of a list.\n",
    "\n",
    "The first thing that comes in mind would be using for loop.\n",
    "\n"
   ]
  },
  {
   "cell_type": "code",
   "execution_count": 50,
   "id": "2b5db1db",
   "metadata": {},
   "outputs": [
    {
     "name": "stdout",
     "output_type": "stream",
     "text": [
      "['h', 'u', 'm', 'a', 'n', 's']\n"
     ]
    }
   ],
   "source": [
    "new_list=[]\n",
    "\n",
    "for i in 'humans':\n",
    "    new_list.append(i)\n",
    "    \n",
    "print(new_list)"
   ]
  },
  {
   "cell_type": "markdown",
   "id": "fae512c1",
   "metadata": {},
   "source": [
    "However, Python has an easier way to solve this issue using List Comprehension.\n",
    "\n",
    "List comprehension is an elegant way to define and create lists based on existing lists.\n",
    "\n",
    "Let’s see how the above program can be written using list comprehensions."
   ]
  },
  {
   "cell_type": "code",
   "execution_count": 51,
   "id": "2fc01269",
   "metadata": {
    "scrolled": true
   },
   "outputs": [
    {
     "data": {
      "text/plain": [
       "['h', 'u', 'm', 'a', 'n', 's']"
      ]
     },
     "execution_count": 51,
     "metadata": {},
     "output_type": "execute_result"
    }
   ],
   "source": [
    "[i for i in \"humans\"]"
   ]
  },
  {
   "cell_type": "markdown",
   "id": "7cf2870b",
   "metadata": {},
   "source": [
    "#### List Comprehensions vs Lambda functions\n",
    "List comprehensions aren’t the only way to work on lists. \n",
    "\n",
    "Various built-in functions and lambda functions can create and modify lists in less lines of code."
   ]
  },
  {
   "cell_type": "code",
   "execution_count": 52,
   "id": "4f88c5fb",
   "metadata": {},
   "outputs": [
    {
     "name": "stdout",
     "output_type": "stream",
     "text": [
      "['M', 'a', 'n', 'j', 'u', 'n', 'a', 't', 'h']\n"
     ]
    }
   ],
   "source": [
    "letters=list(map(lambda i:i,\"Manjunath\"))\n",
    "print(letters)"
   ]
  },
  {
   "cell_type": "markdown",
   "id": "b4a58b29",
   "metadata": {},
   "source": [
    "#### Conditionals in List Comprehension\n",
    "List comprehensions can utilize conditional statement to modify existing list (or other tuples).\n",
    "\n",
    "We will create list that uses mathematical operators, integers, and range()."
   ]
  },
  {
   "cell_type": "code",
   "execution_count": 53,
   "id": "be87c5cf",
   "metadata": {},
   "outputs": [
    {
     "data": {
      "text/plain": [
       "[0, 2, 4, 6, 8, 10, 12, 14, 16, 18]"
      ]
     },
     "execution_count": 53,
     "metadata": {},
     "output_type": "execute_result"
    }
   ],
   "source": [
    "[i for i in range(20) if i%2==0]"
   ]
  },
  {
   "cell_type": "code",
   "execution_count": 54,
   "id": "3b79040c",
   "metadata": {},
   "outputs": [
    {
     "data": {
      "text/plain": [
       "[0, 10]"
      ]
     },
     "execution_count": 54,
     "metadata": {},
     "output_type": "execute_result"
    }
   ],
   "source": [
    "[i for i in range(20) if i%2==0 if i%5==0]"
   ]
  },
  {
   "cell_type": "markdown",
   "id": "05106b8e",
   "metadata": {},
   "source": [
    "#### Nested Loops in List Comprehension\n",
    "\n",
    "Suppose, we need to compute the transpose of a matrix that requires nested for loop. \n",
    "\n",
    "Let’s see how it is done using normal for loop first."
   ]
  },
  {
   "cell_type": "code",
   "execution_count": 55,
   "id": "cc3429a2",
   "metadata": {},
   "outputs": [
    {
     "name": "stdout",
     "output_type": "stream",
     "text": [
      "[[1, 4], [2, 5], [3, 6], [4, 8]]\n"
     ]
    }
   ],
   "source": [
    "transposed = []\n",
    "matrix = [[1, 2, 3, 4], [4, 5, 6, 8]]\n",
    "\n",
    "for i in range(len(matrix[0])):\n",
    "    transposed_row = []\n",
    "\n",
    "    for row in matrix:\n",
    "        transposed_row.append(row[i])\n",
    "    transposed.append(transposed_row)\n",
    "\n",
    "print(transposed)"
   ]
  },
  {
   "cell_type": "code",
   "execution_count": null,
   "id": "15d9fdd5",
   "metadata": {},
   "outputs": [],
   "source": []
  }
 ],
 "metadata": {
  "kernelspec": {
   "display_name": "Python 3 (ipykernel)",
   "language": "python",
   "name": "python3"
  },
  "language_info": {
   "codemirror_mode": {
    "name": "ipython",
    "version": 3
   },
   "file_extension": ".py",
   "mimetype": "text/x-python",
   "name": "python",
   "nbconvert_exporter": "python",
   "pygments_lexer": "ipython3",
   "version": "3.9.13"
  }
 },
 "nbformat": 4,
 "nbformat_minor": 5
}
