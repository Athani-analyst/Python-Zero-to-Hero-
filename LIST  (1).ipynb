{
 "cells": [
  {
   "cell_type": "markdown",
   "id": "dce0b5a9",
   "metadata": {},
   "source": [
    "# Python Lists\n"
   ]
  },
  {
   "cell_type": "markdown",
   "id": "5e8de42a",
   "metadata": {},
   "source": [
    "Lists are used to store multiple items in a single variable.\n",
    "\n",
    "Lists are one of 4 built-in data types in Python used to store collections of data, the other 3 are Tuple, Set, and Dictionary, all with different qualities and usage.\n",
    "\n",
    "Lists are created using square brackets:"
   ]
  },
  {
   "cell_type": "code",
   "execution_count": 252,
   "id": "a0878353",
   "metadata": {},
   "outputs": [],
   "source": [
    "fruits=['apple','Banana','grapes']"
   ]
  },
  {
   "cell_type": "code",
   "execution_count": 253,
   "id": "9f91dffc",
   "metadata": {},
   "outputs": [
    {
     "data": {
      "text/plain": [
       "['apple', 'Banana', 'grapes']"
      ]
     },
     "execution_count": 253,
     "metadata": {},
     "output_type": "execute_result"
    }
   ],
   "source": [
    "fruits"
   ]
  },
  {
   "cell_type": "markdown",
   "id": "f68f318d",
   "metadata": {},
   "source": [
    "List Items\n",
    "\n",
    "List items are ordered, changeable, and allow duplicate values.\n",
    "\n",
    "List items are indexed, the first item has index [0], the second item has index [1] etc."
   ]
  },
  {
   "cell_type": "markdown",
   "id": "4555fb43",
   "metadata": {},
   "source": [
    "Ordered\n",
    "\n",
    "When we say that lists are ordered, it means that the items have a defined order, and that order will not change.\n",
    "\n",
    "If you add new items to a list, the new items will be placed at the end of the list."
   ]
  },
  {
   "cell_type": "markdown",
   "id": "0245a155",
   "metadata": {},
   "source": [
    "Changeable\n",
    "\n",
    "The list is changeable, meaning that we can change, add, and remove items in a list after it has been created."
   ]
  },
  {
   "cell_type": "markdown",
   "id": "a5aea4d8",
   "metadata": {},
   "source": [
    "Allow Duplicates\n",
    "\n",
    "Since lists are indexed, lists can have items with the same value:"
   ]
  },
  {
   "cell_type": "code",
   "execution_count": 254,
   "id": "9284bc70",
   "metadata": {},
   "outputs": [],
   "source": [
    "fruits=['apple','Banana','grapes','apple']"
   ]
  },
  {
   "cell_type": "markdown",
   "id": "2461b83f",
   "metadata": {},
   "source": [
    "### Access Items"
   ]
  },
  {
   "cell_type": "markdown",
   "id": "6d8c119d",
   "metadata": {},
   "source": [
    "List items are indexed and you can access them by referring to the index number:\n",
    "\n",
    "Example\n",
    "\n",
    "Print the second item of the list:\n",
    "\n",
    "fruits=['apple','Banana','grapes','apple']"
   ]
  },
  {
   "cell_type": "code",
   "execution_count": 255,
   "id": "c55841a1",
   "metadata": {},
   "outputs": [
    {
     "data": {
      "text/plain": [
       "'Banana'"
      ]
     },
     "execution_count": 255,
     "metadata": {},
     "output_type": "execute_result"
    }
   ],
   "source": [
    "fruits[1]"
   ]
  },
  {
   "cell_type": "code",
   "execution_count": 256,
   "id": "afc9f6f2",
   "metadata": {},
   "outputs": [
    {
     "data": {
      "text/plain": [
       "'apple'"
      ]
     },
     "execution_count": 256,
     "metadata": {},
     "output_type": "execute_result"
    }
   ],
   "source": [
    "fruits[-1]"
   ]
  },
  {
   "cell_type": "markdown",
   "id": "27fe49d2",
   "metadata": {},
   "source": [
    "Note: The first item has index 0."
   ]
  },
  {
   "cell_type": "markdown",
   "id": "3883acf1",
   "metadata": {},
   "source": [
    "Negative Indexing\n",
    "\n",
    "Negative indexing means start from the end\n",
    "\n",
    "-1 refers to the last item, -2 refers to the second last item etc."
   ]
  },
  {
   "cell_type": "markdown",
   "id": "e57558de",
   "metadata": {},
   "source": [
    "Example\n",
    "\n",
    "Print the last item of the list:\n",
    "\n",
    "fruits=['apple','Banana','grapes','apple']\n",
    " "
   ]
  },
  {
   "cell_type": "code",
   "execution_count": 257,
   "id": "b25bc977",
   "metadata": {},
   "outputs": [
    {
     "data": {
      "text/plain": [
       "'apple'"
      ]
     },
     "execution_count": 257,
     "metadata": {},
     "output_type": "execute_result"
    }
   ],
   "source": [
    "fruits[-1]"
   ]
  },
  {
   "cell_type": "markdown",
   "id": "d19df399",
   "metadata": {},
   "source": [
    "Range of Indexes\n",
    "\n",
    "You can specify a range of indexes by specifying where to start and where to end the range.\n",
    "\n",
    "When specifying a range, the return value will be a new list with the specified items.\n",
    "\n",
    "Example"
   ]
  },
  {
   "cell_type": "code",
   "execution_count": 258,
   "id": "d88cde1c",
   "metadata": {},
   "outputs": [],
   "source": [
    "fruits=['apple','banana','cherry','kiwi','sapota','orrange','mango']"
   ]
  },
  {
   "cell_type": "code",
   "execution_count": 259,
   "id": "d6b1433c",
   "metadata": {},
   "outputs": [
    {
     "data": {
      "text/plain": [
       "['banana', 'cherry', 'kiwi']"
      ]
     },
     "execution_count": 259,
     "metadata": {},
     "output_type": "execute_result"
    }
   ],
   "source": [
    "fruits[1:4]"
   ]
  },
  {
   "cell_type": "code",
   "execution_count": 260,
   "id": "96020273",
   "metadata": {},
   "outputs": [
    {
     "data": {
      "text/plain": [
       "['kiwi', 'sapota', 'orrange']"
      ]
     },
     "execution_count": 260,
     "metadata": {},
     "output_type": "execute_result"
    }
   ],
   "source": [
    "fruits[-4:-1]"
   ]
  },
  {
   "cell_type": "code",
   "execution_count": 261,
   "id": "59373d14",
   "metadata": {},
   "outputs": [
    {
     "data": {
      "text/plain": [
       "['banana', 'cherry', 'kiwi', 'sapota', 'orrange', 'mango']"
      ]
     },
     "execution_count": 261,
     "metadata": {},
     "output_type": "execute_result"
    }
   ],
   "source": [
    "fruits[1:]"
   ]
  },
  {
   "cell_type": "code",
   "execution_count": 262,
   "id": "31e93576",
   "metadata": {},
   "outputs": [
    {
     "data": {
      "text/plain": [
       "7"
      ]
     },
     "execution_count": 262,
     "metadata": {},
     "output_type": "execute_result"
    }
   ],
   "source": [
    "len(fruits)"
   ]
  },
  {
   "cell_type": "code",
   "execution_count": 263,
   "id": "6ef31d51",
   "metadata": {},
   "outputs": [
    {
     "data": {
      "text/plain": [
       "['apple', 'banana', 'cherry', 'kiwi', 'sapota', 'orrange']"
      ]
     },
     "execution_count": 263,
     "metadata": {},
     "output_type": "execute_result"
    }
   ],
   "source": [
    "fruits[:-1]"
   ]
  },
  {
   "cell_type": "code",
   "execution_count": 264,
   "id": "5f5c9135",
   "metadata": {},
   "outputs": [
    {
     "data": {
      "text/plain": [
       "['apple', 'banana', 'cherry', 'kiwi']"
      ]
     },
     "execution_count": 264,
     "metadata": {},
     "output_type": "execute_result"
    }
   ],
   "source": [
    "fruits[:4]"
   ]
  },
  {
   "cell_type": "code",
   "execution_count": 265,
   "id": "df2307ce",
   "metadata": {},
   "outputs": [
    {
     "data": {
      "text/plain": [
       "['apple', 'banana', 'cherry', 'kiwi', 'sapota', 'orrange', 'mango']"
      ]
     },
     "execution_count": 265,
     "metadata": {},
     "output_type": "execute_result"
    }
   ],
   "source": [
    "fruits"
   ]
  },
  {
   "cell_type": "markdown",
   "id": "41c6a4bb",
   "metadata": {},
   "source": [
    "### Change List Items"
   ]
  },
  {
   "cell_type": "markdown",
   "id": "a0f784e5",
   "metadata": {},
   "source": [
    "To change the value of a specific item, refer to the index number:"
   ]
  },
  {
   "cell_type": "code",
   "execution_count": 266,
   "id": "48e873a9",
   "metadata": {},
   "outputs": [
    {
     "data": {
      "text/plain": [
       "['apple', 'banana', 'cherry', 'kiwi', 'sapota', 'orrange', 'mango']"
      ]
     },
     "execution_count": 266,
     "metadata": {},
     "output_type": "execute_result"
    }
   ],
   "source": [
    "fruits"
   ]
  },
  {
   "cell_type": "code",
   "execution_count": 267,
   "id": "7ae71880",
   "metadata": {},
   "outputs": [],
   "source": [
    "fruits[1]='green apple'"
   ]
  },
  {
   "cell_type": "code",
   "execution_count": 268,
   "id": "5a834d66",
   "metadata": {},
   "outputs": [
    {
     "data": {
      "text/plain": [
       "['apple', 'green apple', 'cherry', 'kiwi', 'sapota', 'orrange', 'mango']"
      ]
     },
     "execution_count": 268,
     "metadata": {},
     "output_type": "execute_result"
    }
   ],
   "source": [
    "fruits"
   ]
  },
  {
   "cell_type": "code",
   "execution_count": 269,
   "id": "12c3f1ad",
   "metadata": {},
   "outputs": [],
   "source": [
    "fruits[1:4]='pomogranate','old monk'"
   ]
  },
  {
   "cell_type": "code",
   "execution_count": 270,
   "id": "8e823028",
   "metadata": {},
   "outputs": [
    {
     "data": {
      "text/plain": [
       "['apple', 'pomogranate', 'old monk', 'sapota', 'orrange', 'mango']"
      ]
     },
     "execution_count": 270,
     "metadata": {},
     "output_type": "execute_result"
    }
   ],
   "source": [
    "fruits"
   ]
  },
  {
   "cell_type": "markdown",
   "id": "bca1183b",
   "metadata": {},
   "source": [
    "Change the second value by replacing it with two new values:\n",
    "\n",
    "fruits = [\"apple\", \"banana\", \"cherry\"]\n",
    "\n",
    "\n",
    " "
   ]
  },
  {
   "cell_type": "code",
   "execution_count": 271,
   "id": "246ed65d",
   "metadata": {},
   "outputs": [],
   "source": [
    "fruits = [\"apple\", \"banana\", \"cherry\"]\n",
    "fruits[1:2] = [\"blackcurrant\", \"watermelon\"]"
   ]
  },
  {
   "cell_type": "code",
   "execution_count": 272,
   "id": "0bf0b3a4",
   "metadata": {},
   "outputs": [
    {
     "data": {
      "text/plain": [
       "['apple', 'blackcurrant', 'watermelon', 'cherry']"
      ]
     },
     "execution_count": 272,
     "metadata": {},
     "output_type": "execute_result"
    }
   ],
   "source": [
    "fruits"
   ]
  },
  {
   "cell_type": "markdown",
   "id": "93b97b40",
   "metadata": {},
   "source": [
    "### Add List Items"
   ]
  },
  {
   "cell_type": "markdown",
   "id": "de947fd4",
   "metadata": {},
   "source": [
    "To add an item to the end of the list, use the append() method:"
   ]
  },
  {
   "cell_type": "code",
   "execution_count": 273,
   "id": "24c819a9",
   "metadata": {},
   "outputs": [],
   "source": [
    "cars=['BMW','KIA','TATA','TOYOTA']"
   ]
  },
  {
   "cell_type": "code",
   "execution_count": 274,
   "id": "dce14e29",
   "metadata": {},
   "outputs": [],
   "source": [
    "cars.append('Hyundai')"
   ]
  },
  {
   "cell_type": "code",
   "execution_count": 275,
   "id": "10bd78cb",
   "metadata": {},
   "outputs": [
    {
     "data": {
      "text/plain": [
       "['BMW', 'KIA', 'TATA', 'TOYOTA', 'Hyundai']"
      ]
     },
     "execution_count": 275,
     "metadata": {},
     "output_type": "execute_result"
    }
   ],
   "source": [
    "cars"
   ]
  },
  {
   "cell_type": "markdown",
   "id": "326bfc98",
   "metadata": {},
   "source": [
    "Insert Items\n",
    "\n",
    "To insert a list item at a specified index, use the insert() method.\n",
    "\n",
    "The insert() method inserts an item at the specified index:"
   ]
  },
  {
   "cell_type": "code",
   "execution_count": 276,
   "id": "5eff7af7",
   "metadata": {},
   "outputs": [],
   "source": [
    "cars=['BMW','KIA','TOYOTA']"
   ]
  },
  {
   "cell_type": "code",
   "execution_count": 277,
   "id": "5f5bfb3b",
   "metadata": {},
   "outputs": [],
   "source": [
    "cars.insert(1,'TATA')"
   ]
  },
  {
   "cell_type": "code",
   "execution_count": 278,
   "id": "ebe19892",
   "metadata": {},
   "outputs": [
    {
     "data": {
      "text/plain": [
       "['BMW', 'TATA', 'KIA', 'TOYOTA']"
      ]
     },
     "execution_count": 278,
     "metadata": {},
     "output_type": "execute_result"
    }
   ],
   "source": [
    "cars"
   ]
  },
  {
   "cell_type": "markdown",
   "id": "f0cf61f8",
   "metadata": {},
   "source": [
    "Extend List\n",
    "\n",
    "To append elements from another list to the current list, use the extend() method."
   ]
  },
  {
   "cell_type": "code",
   "execution_count": 279,
   "id": "4517a5c4",
   "metadata": {},
   "outputs": [],
   "source": [
    "series=['Rd','nexon','carnila','inova']"
   ]
  },
  {
   "cell_type": "code",
   "execution_count": 280,
   "id": "53bcd006",
   "metadata": {},
   "outputs": [],
   "source": [
    "cars.extend(series)"
   ]
  },
  {
   "cell_type": "code",
   "execution_count": 281,
   "id": "3e5adf72",
   "metadata": {},
   "outputs": [
    {
     "name": "stdout",
     "output_type": "stream",
     "text": [
      "['BMW', 'TATA', 'KIA', 'TOYOTA', 'Rd', 'nexon', 'carnila', 'inova']\n"
     ]
    }
   ],
   "source": [
    "print(cars)"
   ]
  },
  {
   "cell_type": "markdown",
   "id": "b6c31a13",
   "metadata": {},
   "source": [
    "## Remove List Items"
   ]
  },
  {
   "cell_type": "markdown",
   "id": "0d5103d9",
   "metadata": {},
   "source": [
    "Remove Specified Item\n",
    "\n",
    "The remove() method removes the specified item."
   ]
  },
  {
   "cell_type": "code",
   "execution_count": 282,
   "id": "8d3aeaeb",
   "metadata": {},
   "outputs": [
    {
     "data": {
      "text/plain": [
       "['BMW', 'TATA', 'KIA', 'TOYOTA', 'Rd', 'nexon', 'carnila', 'inova']"
      ]
     },
     "execution_count": 282,
     "metadata": {},
     "output_type": "execute_result"
    }
   ],
   "source": [
    "cars"
   ]
  },
  {
   "cell_type": "code",
   "execution_count": 283,
   "id": "38a2f28b",
   "metadata": {},
   "outputs": [],
   "source": [
    "cars.remove('BMW')"
   ]
  },
  {
   "cell_type": "code",
   "execution_count": 284,
   "id": "01512e7a",
   "metadata": {},
   "outputs": [
    {
     "data": {
      "text/plain": [
       "['TATA', 'KIA', 'TOYOTA', 'Rd', 'nexon', 'carnila', 'inova']"
      ]
     },
     "execution_count": 284,
     "metadata": {},
     "output_type": "execute_result"
    }
   ],
   "source": [
    "cars"
   ]
  },
  {
   "cell_type": "code",
   "execution_count": 285,
   "id": "c15e83b4",
   "metadata": {},
   "outputs": [],
   "source": [
    "cars.remove('TATA')"
   ]
  },
  {
   "cell_type": "code",
   "execution_count": 286,
   "id": "10404d4f",
   "metadata": {},
   "outputs": [
    {
     "data": {
      "text/plain": [
       "['KIA', 'TOYOTA', 'Rd', 'nexon', 'carnila', 'inova']"
      ]
     },
     "execution_count": 286,
     "metadata": {},
     "output_type": "execute_result"
    }
   ],
   "source": [
    "cars"
   ]
  },
  {
   "cell_type": "markdown",
   "id": "d27a6fc2",
   "metadata": {},
   "source": [
    "Remove Specified Index\n",
    "\n",
    "The pop() method removes the specified index."
   ]
  },
  {
   "cell_type": "code",
   "execution_count": 287,
   "id": "41169dba",
   "metadata": {},
   "outputs": [
    {
     "data": {
      "text/plain": [
       "['KIA', 'TOYOTA', 'Rd', 'nexon', 'carnila', 'inova']"
      ]
     },
     "execution_count": 287,
     "metadata": {},
     "output_type": "execute_result"
    }
   ],
   "source": [
    "cars"
   ]
  },
  {
   "cell_type": "code",
   "execution_count": 288,
   "id": "db0f134b",
   "metadata": {},
   "outputs": [
    {
     "data": {
      "text/plain": [
       "'KIA'"
      ]
     },
     "execution_count": 288,
     "metadata": {},
     "output_type": "execute_result"
    }
   ],
   "source": [
    "cars.pop(0)"
   ]
  },
  {
   "cell_type": "code",
   "execution_count": 289,
   "id": "3f9b6b20",
   "metadata": {},
   "outputs": [
    {
     "data": {
      "text/plain": [
       "['TOYOTA', 'Rd', 'nexon', 'carnila', 'inova']"
      ]
     },
     "execution_count": 289,
     "metadata": {},
     "output_type": "execute_result"
    }
   ],
   "source": [
    "cars"
   ]
  },
  {
   "cell_type": "markdown",
   "id": "31622d71",
   "metadata": {},
   "source": [
    "If you do not specify the index, the pop() method removes the last item."
   ]
  },
  {
   "cell_type": "code",
   "execution_count": 290,
   "id": "c5ac3d4c",
   "metadata": {},
   "outputs": [
    {
     "data": {
      "text/plain": [
       "'inova'"
      ]
     },
     "execution_count": 290,
     "metadata": {},
     "output_type": "execute_result"
    }
   ],
   "source": [
    "cars.pop()"
   ]
  },
  {
   "cell_type": "code",
   "execution_count": 291,
   "id": "fad7e6dd",
   "metadata": {},
   "outputs": [
    {
     "data": {
      "text/plain": [
       "['TOYOTA', 'Rd', 'nexon', 'carnila']"
      ]
     },
     "execution_count": 291,
     "metadata": {},
     "output_type": "execute_result"
    }
   ],
   "source": [
    "cars"
   ]
  },
  {
   "cell_type": "markdown",
   "id": "cf431474",
   "metadata": {},
   "source": [
    "The del keyword also removes the specified index:"
   ]
  },
  {
   "cell_type": "code",
   "execution_count": 292,
   "id": "85ebf5ad",
   "metadata": {},
   "outputs": [
    {
     "data": {
      "text/plain": [
       "['TOYOTA', 'Rd', 'nexon', 'carnila']"
      ]
     },
     "execution_count": 292,
     "metadata": {},
     "output_type": "execute_result"
    }
   ],
   "source": [
    "cars"
   ]
  },
  {
   "cell_type": "code",
   "execution_count": 293,
   "id": "6cf870be",
   "metadata": {},
   "outputs": [
    {
     "ename": "SyntaxError",
     "evalue": "cannot delete literal (Temp/ipykernel_14064/1107396748.py, line 1)",
     "output_type": "error",
     "traceback": [
      "\u001b[1;36m  File \u001b[1;32m\"C:\\Users\\ATHANM~1\\AppData\\Local\\Temp/ipykernel_14064/1107396748.py\"\u001b[1;36m, line \u001b[1;32m1\u001b[0m\n\u001b[1;33m    del(2) cars\u001b[0m\n\u001b[1;37m        ^\u001b[0m\n\u001b[1;31mSyntaxError\u001b[0m\u001b[1;31m:\u001b[0m cannot delete literal\n"
     ]
    }
   ],
   "source": [
    "del(2) cars"
   ]
  },
  {
   "cell_type": "markdown",
   "id": "50d36585",
   "metadata": {},
   "source": [
    "## Loop through list"
   ]
  },
  {
   "cell_type": "markdown",
   "id": "9c120754",
   "metadata": {},
   "source": [
    "You can loop through the list items by using a for loop:"
   ]
  },
  {
   "cell_type": "code",
   "execution_count": 294,
   "id": "4f593b12",
   "metadata": {},
   "outputs": [],
   "source": [
    "fruits=['apple','banana','orange']"
   ]
  },
  {
   "cell_type": "code",
   "execution_count": 295,
   "id": "aa4d34e1",
   "metadata": {},
   "outputs": [
    {
     "data": {
      "text/plain": [
       "'apple'"
      ]
     },
     "execution_count": 295,
     "metadata": {},
     "output_type": "execute_result"
    }
   ],
   "source": [
    "fruits[0]"
   ]
  },
  {
   "cell_type": "code",
   "execution_count": 296,
   "id": "a34541a5",
   "metadata": {},
   "outputs": [
    {
     "data": {
      "text/plain": [
       "'banana'"
      ]
     },
     "execution_count": 296,
     "metadata": {},
     "output_type": "execute_result"
    }
   ],
   "source": [
    "fruits[1]"
   ]
  },
  {
   "cell_type": "code",
   "execution_count": 297,
   "id": "f55b1359",
   "metadata": {},
   "outputs": [
    {
     "name": "stdout",
     "output_type": "stream",
     "text": [
      "apple\n",
      "banana\n",
      "orange\n"
     ]
    }
   ],
   "source": [
    "for i in fruits:\n",
    "    print(i)"
   ]
  },
  {
   "cell_type": "code",
   "execution_count": 298,
   "id": "a96b9371",
   "metadata": {},
   "outputs": [
    {
     "name": "stdout",
     "output_type": "stream",
     "text": [
      "apple\n",
      "banana\n",
      "orange\n"
     ]
    }
   ],
   "source": [
    "for i in range(len(fruits)):\n",
    "    print(fruits[i])"
   ]
  },
  {
   "cell_type": "markdown",
   "id": "70331d5e",
   "metadata": {},
   "source": [
    "## Using a While Loop"
   ]
  },
  {
   "cell_type": "markdown",
   "id": "7bca999c",
   "metadata": {},
   "source": [
    "You can loop through the list items by using a while loop.\n",
    "\n",
    "Use the len() function to determine the length of the list, then start at 0 and loop your way through the list items by refering to their indexes.\n",
    "\n",
    "Remember to increase the index by 1 after each iteration."
   ]
  },
  {
   "cell_type": "markdown",
   "id": "8b4ed0a6",
   "metadata": {},
   "source": [
    "Print all items, using a while loop to go through all the index numbers"
   ]
  },
  {
   "cell_type": "code",
   "execution_count": 299,
   "id": "11817ba7",
   "metadata": {},
   "outputs": [],
   "source": [
    "fruits=['apple','banana','orange','mango']"
   ]
  },
  {
   "cell_type": "code",
   "execution_count": 300,
   "id": "ecd034c6",
   "metadata": {},
   "outputs": [
    {
     "name": "stdout",
     "output_type": "stream",
     "text": [
      "apple\n",
      "banana\n",
      "orange\n",
      "mango\n"
     ]
    }
   ],
   "source": [
    "i=0\n",
    "while i<len(fruits):\n",
    "        print(fruits[i])\n",
    "        i=i+1"
   ]
  },
  {
   "cell_type": "markdown",
   "id": "ffa1116a",
   "metadata": {},
   "source": [
    "### Looping Using List Comprehension"
   ]
  },
  {
   "cell_type": "markdown",
   "id": "d26cefc5",
   "metadata": {},
   "source": [
    "List Comprehension offers the shortest syntax for looping through lists:"
   ]
  },
  {
   "cell_type": "code",
   "execution_count": 301,
   "id": "4522bf6d",
   "metadata": {},
   "outputs": [
    {
     "data": {
      "text/plain": [
       "['apple', 'banana', 'orange', 'mango']"
      ]
     },
     "execution_count": 301,
     "metadata": {},
     "output_type": "execute_result"
    }
   ],
   "source": [
    "fruits"
   ]
  },
  {
   "cell_type": "code",
   "execution_count": 302,
   "id": "d5d51c75",
   "metadata": {},
   "outputs": [
    {
     "data": {
      "text/plain": [
       "list"
      ]
     },
     "execution_count": 302,
     "metadata": {},
     "output_type": "execute_result"
    }
   ],
   "source": [
    "type(fruits)"
   ]
  },
  {
   "cell_type": "code",
   "execution_count": 303,
   "id": "ef3ba05f",
   "metadata": {},
   "outputs": [
    {
     "name": "stdout",
     "output_type": "stream",
     "text": [
      "apple\n",
      "banana\n",
      "orange\n",
      "mango\n"
     ]
    }
   ],
   "source": [
    "for i in fruits:\n",
    "    print(i)"
   ]
  },
  {
   "cell_type": "code",
   "execution_count": 304,
   "id": "8e22971f",
   "metadata": {},
   "outputs": [
    {
     "name": "stdout",
     "output_type": "stream",
     "text": [
      "apple\n",
      "banana\n",
      "orange\n",
      "mango\n"
     ]
    },
    {
     "data": {
      "text/plain": [
       "[None, None, None, None]"
      ]
     },
     "execution_count": 304,
     "metadata": {},
     "output_type": "execute_result"
    }
   ],
   "source": [
    "[print(i) for i in fruits]"
   ]
  },
  {
   "cell_type": "markdown",
   "id": "7d9851c4",
   "metadata": {},
   "source": [
    "## List Comprehension"
   ]
  },
  {
   "cell_type": "markdown",
   "id": "4bd7ffe7",
   "metadata": {},
   "source": [
    "List comprehension offers a shorter syntax when you want to create a new list based on the values of an existing list.\n",
    "\n",
    "Example:\n",
    "\n",
    "Based on a list of fruits, you want a new list, containing only the fruits with the letter \"a\" in the name.\n",
    "\n",
    "Without list comprehension you will have to write a for statement with a conditional test inside:"
   ]
  },
  {
   "cell_type": "code",
   "execution_count": 305,
   "id": "1c0bd091",
   "metadata": {},
   "outputs": [],
   "source": [
    "fruits = [\"apple\", \"banana\", \"cherry\", \"kiwi\", \"mango\"]"
   ]
  },
  {
   "cell_type": "code",
   "execution_count": 306,
   "id": "88f428b7",
   "metadata": {},
   "outputs": [
    {
     "name": "stdout",
     "output_type": "stream",
     "text": [
      "['apple', 'banana', 'mango']\n"
     ]
    }
   ],
   "source": [
    "new_list=[]\n",
    "for i in fruits:\n",
    "    if 'a' in i:\n",
    "        new_list.append(i)\n",
    "print(new_list)\n",
    "        "
   ]
  },
  {
   "cell_type": "code",
   "execution_count": 307,
   "id": "0cb2a7bf",
   "metadata": {},
   "outputs": [
    {
     "name": "stdout",
     "output_type": "stream",
     "text": [
      "apple\n",
      "banana\n",
      "mango\n"
     ]
    }
   ],
   "source": [
    "for i in fruits:\n",
    "    if 'a' in i:\n",
    "        print(i)"
   ]
  },
  {
   "cell_type": "code",
   "execution_count": 308,
   "id": "e9e5b70a",
   "metadata": {},
   "outputs": [
    {
     "data": {
      "text/plain": [
       "['apple', 'banana', 'mango']"
      ]
     },
     "execution_count": 308,
     "metadata": {},
     "output_type": "execute_result"
    }
   ],
   "source": [
    "[i for i in fruits if 'a' in i]"
   ]
  },
  {
   "cell_type": "markdown",
   "id": "881b97a5",
   "metadata": {},
   "source": [
    "## The Syntax"
   ]
  },
  {
   "cell_type": "markdown",
   "id": "ccc148eb",
   "metadata": {},
   "source": [
    "## newlist = [expression for item in iterable if condition == True]"
   ]
  },
  {
   "cell_type": "markdown",
   "id": "5df8b216",
   "metadata": {},
   "source": [
    "### Condition"
   ]
  },
  {
   "cell_type": "markdown",
   "id": "10106181",
   "metadata": {},
   "source": [
    "The condition is like a filter that only accepts the items that valuate to True."
   ]
  },
  {
   "cell_type": "code",
   "execution_count": 309,
   "id": "a86631f6",
   "metadata": {},
   "outputs": [
    {
     "data": {
      "text/plain": [
       "['apple', 'banana', 'cherry', 'kiwi', 'mango']"
      ]
     },
     "execution_count": 309,
     "metadata": {},
     "output_type": "execute_result"
    }
   ],
   "source": [
    "fruits"
   ]
  },
  {
   "cell_type": "code",
   "execution_count": 310,
   "id": "1ca99ae0",
   "metadata": {},
   "outputs": [
    {
     "data": {
      "text/plain": [
       "['banana', 'cherry', 'kiwi', 'mango']"
      ]
     },
     "execution_count": 310,
     "metadata": {},
     "output_type": "execute_result"
    }
   ],
   "source": [
    "[x for x in fruits if x!='apple']"
   ]
  },
  {
   "cell_type": "code",
   "execution_count": 311,
   "id": "ec9e054f",
   "metadata": {},
   "outputs": [
    {
     "name": "stdout",
     "output_type": "stream",
     "text": [
      "banana\n",
      "cherry\n",
      "kiwi\n",
      "mango\n"
     ]
    }
   ],
   "source": [
    "for i in fruits:\n",
    "    if i!='apple':\n",
    "        print(i)"
   ]
  },
  {
   "cell_type": "code",
   "execution_count": 312,
   "id": "ae0e4928",
   "metadata": {},
   "outputs": [
    {
     "data": {
      "text/plain": [
       "['apple', 'cherry', 'kiwi', 'mango']"
      ]
     },
     "execution_count": 312,
     "metadata": {},
     "output_type": "execute_result"
    }
   ],
   "source": [
    "[i for i in fruits if i!='banana']"
   ]
  },
  {
   "cell_type": "code",
   "execution_count": 313,
   "id": "955871e2",
   "metadata": {},
   "outputs": [
    {
     "data": {
      "text/plain": [
       "['apple', 'banana', 'cherry', 'kiwi', 'mango']"
      ]
     },
     "execution_count": 313,
     "metadata": {},
     "output_type": "execute_result"
    }
   ],
   "source": [
    "[i for i in fruits]"
   ]
  },
  {
   "cell_type": "markdown",
   "id": "9bfad0a6",
   "metadata": {},
   "source": [
    "## Iterable"
   ]
  },
  {
   "cell_type": "markdown",
   "id": "54c35682",
   "metadata": {},
   "source": [
    "The iterable can be any iterable object, like a list, tuple, set etc."
   ]
  },
  {
   "cell_type": "code",
   "execution_count": 314,
   "id": "1793b93c",
   "metadata": {},
   "outputs": [
    {
     "data": {
      "text/plain": [
       "[0, 1, 2, 3, 4, 5, 6, 7, 8, 9]"
      ]
     },
     "execution_count": 314,
     "metadata": {},
     "output_type": "execute_result"
    }
   ],
   "source": [
    "[i for i in range(10)]"
   ]
  },
  {
   "cell_type": "code",
   "execution_count": 315,
   "id": "3ccbcdd3",
   "metadata": {},
   "outputs": [
    {
     "data": {
      "text/plain": [
       "range(0, 10)"
      ]
     },
     "execution_count": 315,
     "metadata": {},
     "output_type": "execute_result"
    }
   ],
   "source": [
    "range(10)"
   ]
  },
  {
   "cell_type": "code",
   "execution_count": 316,
   "id": "40035d46",
   "metadata": {},
   "outputs": [
    {
     "name": "stdout",
     "output_type": "stream",
     "text": [
      "0\n",
      "1\n",
      "2\n",
      "3\n",
      "4\n",
      "5\n",
      "6\n",
      "7\n",
      "8\n",
      "9\n"
     ]
    }
   ],
   "source": [
    "for i in range(10):\n",
    "    print(i)"
   ]
  },
  {
   "cell_type": "code",
   "execution_count": 317,
   "id": "3f99bd1a",
   "metadata": {},
   "outputs": [
    {
     "data": {
      "text/plain": [
       "[0, 1, 2, 3, 4, 5, 6, 7, 8, 9, 10, 11, 12, 13, 14, 15, 16, 17, 18, 19]"
      ]
     },
     "execution_count": 317,
     "metadata": {},
     "output_type": "execute_result"
    }
   ],
   "source": [
    "[i for i in range(20)]"
   ]
  },
  {
   "cell_type": "code",
   "execution_count": 318,
   "id": "50bba575",
   "metadata": {},
   "outputs": [
    {
     "data": {
      "text/plain": [
       "[0, 2, 4, 6, 8, 10, 12, 14, 16, 18]"
      ]
     },
     "execution_count": 318,
     "metadata": {},
     "output_type": "execute_result"
    }
   ],
   "source": [
    "[i for i in range(20) if i%2==0]"
   ]
  },
  {
   "cell_type": "code",
   "execution_count": 319,
   "id": "1798055f",
   "metadata": {},
   "outputs": [],
   "source": [
    "even_num=[i for i in range(20) if i%2==0]"
   ]
  },
  {
   "cell_type": "code",
   "execution_count": 320,
   "id": "d993efb0",
   "metadata": {},
   "outputs": [
    {
     "data": {
      "text/plain": [
       "[0, 2, 4, 6, 8, 10, 12, 14, 16, 18]"
      ]
     },
     "execution_count": 320,
     "metadata": {},
     "output_type": "execute_result"
    }
   ],
   "source": [
    "even_num"
   ]
  },
  {
   "cell_type": "markdown",
   "id": "a1a53e30",
   "metadata": {},
   "source": [
    "## Expression"
   ]
  },
  {
   "cell_type": "markdown",
   "id": "a016cde3",
   "metadata": {},
   "source": [
    "The expression is the current item in the iteration, but it is also the outcome, which you can manipulate before it ends up like a list item in the new list:\n",
    "\n",
    "Example"
   ]
  },
  {
   "cell_type": "markdown",
   "id": "b3eda12c",
   "metadata": {},
   "source": [
    "Set the values in the new list to upper case:"
   ]
  },
  {
   "cell_type": "code",
   "execution_count": 321,
   "id": "166f9e6e",
   "metadata": {},
   "outputs": [],
   "source": [
    "mobile=['apple','mi','sony','samsung','vivo','appo','realme']"
   ]
  },
  {
   "cell_type": "code",
   "execution_count": 322,
   "id": "49759725",
   "metadata": {},
   "outputs": [
    {
     "data": {
      "text/plain": [
       "['apple', 'samsung', 'appo', 'realme']"
      ]
     },
     "execution_count": 322,
     "metadata": {},
     "output_type": "execute_result"
    }
   ],
   "source": [
    "[i for i in mobile if 'a' in i]"
   ]
  },
  {
   "cell_type": "code",
   "execution_count": 323,
   "id": "551fefbb",
   "metadata": {},
   "outputs": [],
   "source": [
    "ferti=['urea','npk','micronutri','macro']"
   ]
  },
  {
   "cell_type": "code",
   "execution_count": 324,
   "id": "af8aa6d5",
   "metadata": {},
   "outputs": [
    {
     "data": {
      "text/plain": [
       "['NPK']"
      ]
     },
     "execution_count": 324,
     "metadata": {},
     "output_type": "execute_result"
    }
   ],
   "source": [
    "[i.upper() for i in ferti if i=='npk']"
   ]
  },
  {
   "cell_type": "markdown",
   "id": "4aece582",
   "metadata": {},
   "source": [
    "# Python - Sort Lists"
   ]
  },
  {
   "cell_type": "markdown",
   "id": "a4f85eea",
   "metadata": {},
   "source": [
    "List objects have a sort() method that will sort the list alphanumerically, ascending, by default:"
   ]
  },
  {
   "cell_type": "code",
   "execution_count": 325,
   "id": "17c3fad5",
   "metadata": {},
   "outputs": [],
   "source": [
    "name=['athani','ramesh','gkvk','taj','suresh','oldmonk']"
   ]
  },
  {
   "cell_type": "code",
   "execution_count": 326,
   "id": "c0631225",
   "metadata": {},
   "outputs": [
    {
     "name": "stdout",
     "output_type": "stream",
     "text": [
      "['athani', 'gkvk', 'oldmonk', 'ramesh', 'suresh', 'taj']\n"
     ]
    }
   ],
   "source": [
    "name.sort()\n",
    "print(name)"
   ]
  },
  {
   "cell_type": "code",
   "execution_count": 327,
   "id": "553037e8",
   "metadata": {},
   "outputs": [
    {
     "name": "stdout",
     "output_type": "stream",
     "text": [
      "['athani', 'ramesh', 'Gkvk', 'taj', 'suresh', 'oldmonk']\n"
     ]
    }
   ],
   "source": [
    "name=['athani','ramesh','Gkvk','taj','suresh','oldmonk']\n",
    "print(name)"
   ]
  },
  {
   "cell_type": "code",
   "execution_count": 328,
   "id": "96cb447d",
   "metadata": {},
   "outputs": [
    {
     "name": "stdout",
     "output_type": "stream",
     "text": [
      "[85, 123, 287, 543, 4543]\n"
     ]
    }
   ],
   "source": [
    "number=[123,543,287,85,4543]\n",
    "number.sort()\n",
    "print(number)"
   ]
  },
  {
   "cell_type": "markdown",
   "id": "e07a2636",
   "metadata": {},
   "source": [
    "## Sort Descending"
   ]
  },
  {
   "cell_type": "markdown",
   "id": "cc9f4061",
   "metadata": {},
   "source": [
    "To sort descending, use the keyword argument reverse = True:"
   ]
  },
  {
   "cell_type": "code",
   "execution_count": 329,
   "id": "39887754",
   "metadata": {},
   "outputs": [
    {
     "name": "stdout",
     "output_type": "stream",
     "text": [
      "['taj', 'suresh', 'ramesh', 'oldmonk', 'gkvk', 'athani']\n"
     ]
    }
   ],
   "source": [
    "name=['athani','ramesh','gkvk','taj','suresh','oldmonk']\n",
    "name.sort(reverse=True)\n",
    "print(name)\n"
   ]
  },
  {
   "cell_type": "code",
   "execution_count": 330,
   "id": "3ecba086",
   "metadata": {},
   "outputs": [
    {
     "name": "stdout",
     "output_type": "stream",
     "text": [
      "[4543, 543, 287, 123, 85]\n"
     ]
    }
   ],
   "source": [
    "number=[123,543,287,85,4543]\n",
    "number.sort(reverse=True)\n",
    "print(number)"
   ]
  },
  {
   "cell_type": "code",
   "execution_count": 331,
   "id": "3d10adbe",
   "metadata": {},
   "outputs": [
    {
     "name": "stdout",
     "output_type": "stream",
     "text": [
      "['athani', 'Gkvk', 'oldmonk', 'ramesh', 'suresh', 'taj']\n"
     ]
    }
   ],
   "source": [
    "name=['athani','ramesh','Gkvk','taj','suresh','oldmonk']\n",
    "name.sort(key=str.lower)\n",
    "print(name)"
   ]
  },
  {
   "cell_type": "code",
   "execution_count": 332,
   "id": "5f28d484",
   "metadata": {},
   "outputs": [
    {
     "name": "stdout",
     "output_type": "stream",
     "text": [
      "['Gkvk', 'athani', 'oldmonk', 'ramesh', 'suresh', 'taj']\n"
     ]
    }
   ],
   "source": [
    "name=['athani','ramesh','Gkvk','taj','suresh','oldmonk']\n",
    "name.sort()\n",
    "print(name)"
   ]
  },
  {
   "cell_type": "code",
   "execution_count": 333,
   "id": "4aceb845",
   "metadata": {},
   "outputs": [
    {
     "name": "stdout",
     "output_type": "stream",
     "text": [
      "['athani', 'Gkvk', 'oldmonk', 'ramesh', 'suresh', 'taj']\n"
     ]
    }
   ],
   "source": [
    "name=['athani','ramesh','Gkvk','taj','suresh','oldmonk']\n",
    "name.sort(key=str.lower)\n",
    "print(name)"
   ]
  },
  {
   "cell_type": "code",
   "execution_count": 334,
   "id": "4d4ba638",
   "metadata": {},
   "outputs": [
    {
     "name": "stdout",
     "output_type": "stream",
     "text": [
      "['oldmonk', 'suresh', 'taj', 'Gkvk', 'ramesh', 'athani']\n"
     ]
    }
   ],
   "source": [
    "name=['athani','ramesh','Gkvk','taj','suresh','oldmonk']\n",
    "name.reverse()\n",
    "print(name)"
   ]
  },
  {
   "cell_type": "markdown",
   "id": "74ce9975",
   "metadata": {},
   "source": [
    "# Copy a List"
   ]
  },
  {
   "cell_type": "markdown",
   "id": "a4621e8c",
   "metadata": {},
   "source": [
    "You cannot copy a list simply by typing list2 = list1, because: list2 will only be a reference to list1, and changes made in list1 will automatically also be made in list2."
   ]
  },
  {
   "cell_type": "code",
   "execution_count": 335,
   "id": "c9a8b455",
   "metadata": {},
   "outputs": [],
   "source": [
    "list1=['samsung','mi','apple']"
   ]
  },
  {
   "cell_type": "code",
   "execution_count": 336,
   "id": "c01ece6c",
   "metadata": {},
   "outputs": [],
   "source": [
    "newlist=list1.copy()"
   ]
  },
  {
   "cell_type": "markdown",
   "id": "29b60ac0",
   "metadata": {},
   "source": [
    "# Join Lists"
   ]
  },
  {
   "cell_type": "markdown",
   "id": "c695ca9b",
   "metadata": {},
   "source": [
    "There are several ways to join, or concatenate, two or more lists in Python.\n",
    "\n",
    "One of the easiest ways are by using the + operator."
   ]
  },
  {
   "cell_type": "code",
   "execution_count": 337,
   "id": "b7b151ba",
   "metadata": {},
   "outputs": [],
   "source": [
    "list=['a','d','w','f']\n",
    "list1=[1,3,4,2]"
   ]
  },
  {
   "cell_type": "code",
   "execution_count": 338,
   "id": "63a2ee70",
   "metadata": {},
   "outputs": [],
   "source": [
    "list2=list+list1"
   ]
  },
  {
   "cell_type": "code",
   "execution_count": 339,
   "id": "abd9ca93",
   "metadata": {},
   "outputs": [
    {
     "data": {
      "text/plain": [
       "['a', 'd', 'w', 'f', 1, 3, 4, 2]"
      ]
     },
     "execution_count": 339,
     "metadata": {},
     "output_type": "execute_result"
    }
   ],
   "source": [
    "list2"
   ]
  },
  {
   "cell_type": "markdown",
   "id": "9f23f9cc",
   "metadata": {},
   "source": [
    "Another way to join two lists is by appending all the items from list2 into list1, one by one:"
   ]
  },
  {
   "cell_type": "code",
   "execution_count": 340,
   "id": "f1bd23b5",
   "metadata": {},
   "outputs": [
    {
     "name": "stdout",
     "output_type": "stream",
     "text": [
      "['a', 'd', 'w', 'f', 1, 3, 4, 2]\n"
     ]
    }
   ],
   "source": [
    "for i in list1:\n",
    "    list.append(i)\n",
    "    \n",
    "print(list)"
   ]
  },
  {
   "cell_type": "markdown",
   "id": "70f0ea4f",
   "metadata": {},
   "source": [
    "Or you can use the extend() method, which purpose is to add elements from one list to another list:"
   ]
  },
  {
   "cell_type": "code",
   "execution_count": 341,
   "id": "a7cb5d6b",
   "metadata": {},
   "outputs": [
    {
     "name": "stdout",
     "output_type": "stream",
     "text": [
      "['a', 'd', 'w', 'f', 1, 3, 4, 2, 1, 3, 4, 2]\n"
     ]
    }
   ],
   "source": [
    "list.extend(list1)\n",
    "print(list)"
   ]
  },
  {
   "cell_type": "code",
   "execution_count": 342,
   "id": "3672eac2",
   "metadata": {},
   "outputs": [
    {
     "name": "stdout",
     "output_type": "stream",
     "text": [
      "[]\n"
     ]
    }
   ],
   "source": [
    "list.clear()\n",
    "print(list)"
   ]
  },
  {
   "cell_type": "code",
   "execution_count": 343,
   "id": "e2e9a882",
   "metadata": {},
   "outputs": [
    {
     "data": {
      "text/plain": [
       "[1, 3, 4, 2]"
      ]
     },
     "execution_count": 343,
     "metadata": {},
     "output_type": "execute_result"
    }
   ],
   "source": [
    "list1"
   ]
  },
  {
   "cell_type": "code",
   "execution_count": null,
   "id": "1cc852fa",
   "metadata": {},
   "outputs": [],
   "source": []
  }
 ],
 "metadata": {
  "kernelspec": {
   "display_name": "Python 3 (ipykernel)",
   "language": "python",
   "name": "python3"
  },
  "language_info": {
   "codemirror_mode": {
    "name": "ipython",
    "version": 3
   },
   "file_extension": ".py",
   "mimetype": "text/x-python",
   "name": "python",
   "nbconvert_exporter": "python",
   "pygments_lexer": "ipython3",
   "version": "3.9.7"
  }
 },
 "nbformat": 4,
 "nbformat_minor": 5
}
