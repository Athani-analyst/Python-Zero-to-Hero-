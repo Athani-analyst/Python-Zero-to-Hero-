{
 "cells": [
  {
   "cell_type": "markdown",
   "id": "80751989",
   "metadata": {},
   "source": [
    "# Python datetime module"
   ]
  },
  {
   "cell_type": "markdown",
   "id": "02156cca",
   "metadata": {},
   "source": [
    "#### Get Current Date"
   ]
  },
  {
   "cell_type": "code",
   "execution_count": 5,
   "id": "6ae3591a",
   "metadata": {},
   "outputs": [],
   "source": [
    "import datetime as dt\n",
    "# import the datetime model"
   ]
  },
  {
   "cell_type": "code",
   "execution_count": 10,
   "id": "ecc72d5e",
   "metadata": {},
   "outputs": [
    {
     "data": {
      "text/plain": [
       "datetime.date(2022, 11, 18)"
      ]
     },
     "execution_count": 10,
     "metadata": {},
     "output_type": "execute_result"
    }
   ],
   "source": [
    "current_date=dt.date.today()\n",
    "current_date"
   ]
  },
  {
   "cell_type": "markdown",
   "id": "61f11f54",
   "metadata": {},
   "source": [
    "imilar to the date class, the datetime module has many other useful classes to work with date and time:\n",
    "\n",
    "- date class - to work with date\n",
    "- time class - to work with time\n",
    "- datetime class - combination of date and time classes"
   ]
  },
  {
   "cell_type": "markdown",
   "id": "40243190",
   "metadata": {},
   "source": [
    "#### The datetime.date Class1"
   ]
  },
  {
   "cell_type": "markdown",
   "id": "4f05c4d2",
   "metadata": {},
   "source": [
    "The date class of the datetime module is used to create date objects that can store year, month and day."
   ]
  },
  {
   "cell_type": "code",
   "execution_count": 12,
   "id": "c8f0ef08",
   "metadata": {},
   "outputs": [
    {
     "name": "stdout",
     "output_type": "stream",
     "text": [
      "2021-01-21\n",
      "Year: 2021\n",
      "Month: 1\n",
      "Day: 21\n"
     ]
    }
   ],
   "source": [
    "import datetime as dt\n",
    "\n",
    "date1 = dt.date(2021, 1, 21)\n",
    "print(date1)\n",
    "\n",
    "print(\"Year:\", date1.year)\n",
    "print(\"Month:\", date1.month)\n",
    "print(\"Day:\", date1.day)"
   ]
  },
  {
   "cell_type": "markdown",
   "id": "549a6e74",
   "metadata": {},
   "source": [
    "#### The datetime.time Class\n",
    "\n",
    "The time class of the datetime module is used to create time objects that can store time of day like hours, minutes, seconds, and microseconds.\n",
    "\n",
    "The time class takes in all optional integer arguments. By default all of them are 0.\n",
    "\n",
    "- The first argument is hour from 0 to 24\n",
    "- The second one is minutes from 0 to 60\n",
    "- The third is seconds from 0 to 60\n",
    "- The fourth is microsecond from 0 to 999999"
   ]
  },
  {
   "cell_type": "code",
   "execution_count": 13,
   "id": "d1227a7a",
   "metadata": {},
   "outputs": [
    {
     "name": "stdout",
     "output_type": "stream",
     "text": [
      "10:47:20.234566\n",
      "Hour: 10\n",
      "Minute: 47\n",
      "Second: 20\n",
      "Microsecond: 234566\n"
     ]
    }
   ],
   "source": [
    "import datetime as dt\n",
    "\n",
    "time1 = dt.time(10, 47, 20, 234566)\n",
    "print(time1)\n",
    "\n",
    "print(\"Hour:\", time1.hour)\n",
    "print(\"Minute:\", time1.minute)\n",
    "print(\"Second:\", time1.second)\n",
    "print(\"Microsecond:\", time1.microsecond)"
   ]
  },
  {
   "cell_type": "markdown",
   "id": "a7ca573d",
   "metadata": {},
   "source": [
    "Note: If you want more control and functionalities on time, use the time module."
   ]
  },
  {
   "cell_type": "code",
   "execution_count": 16,
   "id": "8216e57a",
   "metadata": {},
   "outputs": [
    {
     "data": {
      "text/plain": [
       "datetime.datetime(2022, 11, 18, 13, 12, 57, 863121)"
      ]
     },
     "execution_count": 16,
     "metadata": {},
     "output_type": "execute_result"
    }
   ],
   "source": [
    "dt.datetime.now()"
   ]
  },
  {
   "cell_type": "markdown",
   "id": "606148a6",
   "metadata": {},
   "source": [
    "#### The datetime.datetime Class\n",
    "The datetime class of the datetime module is used to create objects that contain all the information from a date object as well as a time object."
   ]
  },
  {
   "cell_type": "code",
   "execution_count": 21,
   "id": "2ae38814",
   "metadata": {},
   "outputs": [
    {
     "name": "stdout",
     "output_type": "stream",
     "text": [
      "2022-11-18 01:15:23.000034\n",
      "2022-11-18\n",
      "01:15:23.000034\n"
     ]
    }
   ],
   "source": [
    "import datetime as dt\n",
    "\n",
    "date_object=dt.datetime(2022,11,18,1,15,23,34)\n",
    "\n",
    "print(date_object)\n",
    "print(date_object.date())\n",
    "print(date_object.time())"
   ]
  },
  {
   "cell_type": "markdown",
   "id": "a4ae1d75",
   "metadata": {},
   "source": [
    "#### Getting current date and time\n",
    "To get the current local date and time at once, we can use the now() method of the datetime object.1\n"
   ]
  },
  {
   "cell_type": "code",
   "execution_count": 23,
   "id": "696f021d",
   "metadata": {},
   "outputs": [
    {
     "name": "stdout",
     "output_type": "stream",
     "text": [
      "2022-11-18 13:17:08.810464\n"
     ]
    }
   ],
   "source": [
    "import datetime as dt\n",
    "\n",
    "current_time = dt.datetime.now()\n",
    "\n",
    "print(current_time)"
   ]
  },
  {
   "cell_type": "markdown",
   "id": "bd3c6e9f",
   "metadata": {},
   "source": [
    "# The datetime.timedelta Class\n",
    "A timedelta object represents the difference between two dates or times.\n",
    "\n",
    "Let's find out the time difference between now and the next new year.1"
   ]
  },
  {
   "cell_type": "code",
   "execution_count": null,
   "id": "08048e42",
   "metadata": {},
   "outputs": [],
   "source": [
    "import datetime as dt\n",
    "\n",
    "current_time = dt.datetime.now()\n",
    "next_new_year = dt.datetime(2022, 1, 1)\n",
    "\n",
    "time_remaining = next_new_year - current_time\n",
    "\n",
    "print(time_remaining)\n",
    "print(type(time_remaining))"
   ]
  },
  {
   "cell_type": "code",
   "execution_count": 31,
   "id": "b57018c0",
   "metadata": {},
   "outputs": [
    {
     "name": "stdout",
     "output_type": "stream",
     "text": [
      "-322 days, 10:38:02.663482\n"
     ]
    }
   ],
   "source": [
    "import datetime as dt\n",
    "\n",
    "current_time=dt.datetime.now()\n",
    "next_new_year=dt.datetime(2022,1,1)\n",
    "\n",
    "print_reaming_day=next_new_year-current_time\n",
    "\n",
    "print(print_reaming_day)"
   ]
  },
  {
   "cell_type": "markdown",
   "id": "e8a391b7",
   "metadata": {},
   "source": [
    "This timedelta object can also be added or subtracted from datetime objects to get new datetime objects.\n",
    "\n"
   ]
  },
  {
   "cell_type": "markdown",
   "id": "a6ffa0b9",
   "metadata": {},
   "source": [
    "### Python strftime() method"
   ]
  },
  {
   "cell_type": "markdown",
   "id": "b51dc9c2",
   "metadata": {},
   "source": [
    "The strftime() method returns a string representing date and time for the datetime object.\n",
    "\n",
    "There are many formats to write the date and time depending on your location.\n",
    "\n",
    "If you are in the US, you probably use the mm-dd-yyyy format while if you're in the UK you will generally use the dd-mm-yyyy format.\n",
    "\n",
    "The strftime() method allows us to display the date and time in a custom specific format."
   ]
  },
  {
   "cell_type": "code",
   "execution_count": 41,
   "id": "a56ca8e3",
   "metadata": {},
   "outputs": [
    {
     "name": "stdout",
     "output_type": "stream",
     "text": [
      "2022-11-18 13:24:48.874370\n",
      "Friday, November 18, 2022\n"
     ]
    }
   ],
   "source": [
    "import datetime as dt\n",
    "\n",
    "current_datetime = dt.datetime.now()\n",
    "print(current_datetime)\n",
    "\n",
    "string_date = current_datetime.strftime(\"%A, %B %d, %Y\")\n",
    "print(string_date)"
   ]
  },
  {
   "cell_type": "markdown",
   "id": "f034efef",
   "metadata": {},
   "source": [
    "Here,\n",
    "\n",
    "- %A represents the weekday name i.e. Thursday\n",
    "- %B represents the month's full name\n",
    "- %d represents the day of the month\n",
    "- %Y represents the year"
   ]
  },
  {
   "cell_type": "markdown",
   "id": "ac0319e7",
   "metadata": {},
   "source": [
    "There are many other format codes:\n",
    "\n",
    "https://www.w3schools.com/python/python_datetime.asp"
   ]
  },
  {
   "cell_type": "markdown",
   "id": "4c39fd1b",
   "metadata": {},
   "source": [
    "### Python strptime() method"
   ]
  },
  {
   "cell_type": "markdown",
   "id": "ae787f3b",
   "metadata": {},
   "source": [
    "The strptime() method converts strings to datetime objects."
   ]
  },
  {
   "cell_type": "code",
   "execution_count": 44,
   "id": "be12de39",
   "metadata": {},
   "outputs": [
    {
     "name": "stdout",
     "output_type": "stream",
     "text": [
      "date_object: 2021-06-21 00:00:00\n"
     ]
    }
   ],
   "source": [
    "import datetime as dt\n",
    "\n",
    "date_string = \"21 June, 2021\"\n",
    "\n",
    "date_object = dt.datetime.strptime(date_string, \"%d %B, %Y\")\n",
    "print(\"date_object:\", date_object)"
   ]
  },
  {
   "cell_type": "code",
   "execution_count": null,
   "id": "b11719b3",
   "metadata": {},
   "outputs": [],
   "source": []
  }
 ],
 "metadata": {
  "kernelspec": {
   "display_name": "Python 3 (ipykernel)",
   "language": "python",
   "name": "python3"
  },
  "language_info": {
   "codemirror_mode": {
    "name": "ipython",
    "version": 3
   },
   "file_extension": ".py",
   "mimetype": "text/x-python",
   "name": "python",
   "nbconvert_exporter": "python",
   "pygments_lexer": "ipython3",
   "version": "3.9.13"
  }
 },
 "nbformat": 4,
 "nbformat_minor": 5
}
